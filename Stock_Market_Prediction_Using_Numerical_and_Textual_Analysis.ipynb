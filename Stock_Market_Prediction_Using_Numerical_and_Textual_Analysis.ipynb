{
  "nbformat": 4,
  "nbformat_minor": 0,
  "metadata": {
    "colab": {
      "name": "Stock Market Prediction Using Numerical and Textual Analysis",
      "provenance": [],
      "authorship_tag": "ABX9TyPLM2HliXuLWpKSfs5P5Dcp",
      "include_colab_link": true
    },
    "kernelspec": {
      "name": "python3",
      "display_name": "Python 3"
    },
    "accelerator": "GPU"
  },
  "cells": [
    {
      "cell_type": "markdown",
      "metadata": {
        "id": "view-in-github",
        "colab_type": "text"
      },
      "source": [
        "<a href=\"https://colab.research.google.com/github/TEQUILA009/Machine-Learning/blob/master/Stock_Market_Prediction_Using_Numerical_and_Textual_Analysis.ipynb\" target=\"_parent\"><img src=\"https://colab.research.google.com/assets/colab-badge.svg\" alt=\"Open In Colab\"/></a>"
      ]
    },
    {
      "cell_type": "code",
      "metadata": {
        "colab": {
          "base_uri": "https://localhost:8080/"
        },
        "id": "eBZ5Tu7O2V44",
        "outputId": "f5129f61-3086-4e53-f289-befd8060c1cf"
      },
      "source": [
        "import warnings\r\n",
        "warnings.filterwarnings('ignore')\r\n",
        " \r\n",
        "import math\r\n",
        "import pandas as pd\r\n",
        "import numpy as npp\r\n",
        " \r\n",
        "import matplotlib.pyplot as plt\r\n",
        "import seaborn as sns\r\n",
        " \r\n",
        "from keras.models import Sequential\r\n",
        "from keras.layers import Dense, LSTM, Dropout, Dense, Activation\r\n",
        " \r\n",
        "import nltk\r\n",
        "from nltk.classify import NaiveBayesClassifier\r\n",
        "from nltk.corpus import subjectivity\r\n",
        "from nltk.sentiment import SentimentAnalyzer\r\n",
        "from nltk.sentiment.util import *\r\n",
        " \r\n",
        "from sklearn import preprocessing, metrics\r\n",
        "from sklearn.preprocessing import MinMaxScaler\r\n",
        "for i in ['gutenberg','punkt','vader_lexicon']:              \r\n",
        "  nltk.download(str(i))\r\n",
        "from nltk.sentiment.vader import SentimentIntensityAnalyzer as vader\r\n",
        "print('Libraries Imported')"
      ],
      "execution_count": 1,
      "outputs": [
        {
          "output_type": "stream",
          "text": [
            "[nltk_data] Downloading package gutenberg to /root/nltk_data...\n",
            "[nltk_data]   Unzipping corpora/gutenberg.zip.\n",
            "[nltk_data] Downloading package punkt to /root/nltk_data...\n",
            "[nltk_data]   Unzipping tokenizers/punkt.zip.\n",
            "[nltk_data] Downloading package vader_lexicon to /root/nltk_data...\n",
            "Libraries Imported\n"
          ],
          "name": "stdout"
        }
      ]
    },
    {
      "cell_type": "code",
      "metadata": {
        "colab": {
          "base_uri": "https://localhost:8080/",
          "height": 195
        },
        "id": "6bX5ijOt2Yoy",
        "outputId": "7ba99837-ef07-4c8e-ebbd-13d12568b601"
      },
      "source": [
        "stock_price=pd.read_csv('https://query1.finance.yahoo.com/v7/finance/download/%5EGSPC?period1=978307200&period2=1602979200&interval=1d&events=history&includeAdjustedClose=true')\r\n",
        "stock_price.head()"
      ],
      "execution_count": 2,
      "outputs": [
        {
          "output_type": "execute_result",
          "data": {
            "text/html": [
              "<div>\n",
              "<style scoped>\n",
              "    .dataframe tbody tr th:only-of-type {\n",
              "        vertical-align: middle;\n",
              "    }\n",
              "\n",
              "    .dataframe tbody tr th {\n",
              "        vertical-align: top;\n",
              "    }\n",
              "\n",
              "    .dataframe thead th {\n",
              "        text-align: right;\n",
              "    }\n",
              "</style>\n",
              "<table border=\"1\" class=\"dataframe\">\n",
              "  <thead>\n",
              "    <tr style=\"text-align: right;\">\n",
              "      <th></th>\n",
              "      <th>Date</th>\n",
              "      <th>Open</th>\n",
              "      <th>High</th>\n",
              "      <th>Low</th>\n",
              "      <th>Close</th>\n",
              "      <th>Adj Close</th>\n",
              "      <th>Volume</th>\n",
              "    </tr>\n",
              "  </thead>\n",
              "  <tbody>\n",
              "    <tr>\n",
              "      <th>0</th>\n",
              "      <td>2001-01-02</td>\n",
              "      <td>1320.280029</td>\n",
              "      <td>1320.280029</td>\n",
              "      <td>1276.050049</td>\n",
              "      <td>1283.270020</td>\n",
              "      <td>1283.270020</td>\n",
              "      <td>1129400000</td>\n",
              "    </tr>\n",
              "    <tr>\n",
              "      <th>1</th>\n",
              "      <td>2001-01-03</td>\n",
              "      <td>1283.270020</td>\n",
              "      <td>1347.760010</td>\n",
              "      <td>1274.619995</td>\n",
              "      <td>1347.560059</td>\n",
              "      <td>1347.560059</td>\n",
              "      <td>1880700000</td>\n",
              "    </tr>\n",
              "    <tr>\n",
              "      <th>2</th>\n",
              "      <td>2001-01-04</td>\n",
              "      <td>1347.560059</td>\n",
              "      <td>1350.239990</td>\n",
              "      <td>1329.140015</td>\n",
              "      <td>1333.339966</td>\n",
              "      <td>1333.339966</td>\n",
              "      <td>2131000000</td>\n",
              "    </tr>\n",
              "    <tr>\n",
              "      <th>3</th>\n",
              "      <td>2001-01-05</td>\n",
              "      <td>1333.339966</td>\n",
              "      <td>1334.770020</td>\n",
              "      <td>1294.949951</td>\n",
              "      <td>1298.349976</td>\n",
              "      <td>1298.349976</td>\n",
              "      <td>1430800000</td>\n",
              "    </tr>\n",
              "    <tr>\n",
              "      <th>4</th>\n",
              "      <td>2001-01-08</td>\n",
              "      <td>1298.349976</td>\n",
              "      <td>1298.349976</td>\n",
              "      <td>1276.290039</td>\n",
              "      <td>1295.859985</td>\n",
              "      <td>1295.859985</td>\n",
              "      <td>1115500000</td>\n",
              "    </tr>\n",
              "  </tbody>\n",
              "</table>\n",
              "</div>"
            ],
            "text/plain": [
              "         Date         Open         High  ...        Close    Adj Close      Volume\n",
              "0  2001-01-02  1320.280029  1320.280029  ...  1283.270020  1283.270020  1129400000\n",
              "1  2001-01-03  1283.270020  1347.760010  ...  1347.560059  1347.560059  1880700000\n",
              "2  2001-01-04  1347.560059  1350.239990  ...  1333.339966  1333.339966  2131000000\n",
              "3  2001-01-05  1333.339966  1334.770020  ...  1298.349976  1298.349976  1430800000\n",
              "4  2001-01-08  1298.349976  1298.349976  ...  1295.859985  1295.859985  1115500000\n",
              "\n",
              "[5 rows x 7 columns]"
            ]
          },
          "metadata": {
            "tags": []
          },
          "execution_count": 2
        }
      ]
    },
    {
      "cell_type": "code",
      "metadata": {
        "colab": {
          "base_uri": "https://localhost:8080/"
        },
        "id": "PkU_esdI2Yle",
        "outputId": "5c7b9a94-8a1c-4a6c-c7bf-7198e8cd8588"
      },
      "source": [
        "# As the headlines dataset was given to us offline and it took really long to upload on collab I had to first mount my dataset on Gdrive and then acess it from there\r\n",
        "from google.colab import drive\r\n",
        "drive.mount('/content/drive')"
      ],
      "execution_count": 3,
      "outputs": [
        {
          "output_type": "stream",
          "text": [
            "Mounted at /content/drive\n"
          ],
          "name": "stdout"
        }
      ]
    },
    {
      "cell_type": "code",
      "metadata": {
        "colab": {
          "base_uri": "https://localhost:8080/"
        },
        "id": "h0Sbljin2YjR",
        "outputId": "3e3a8910-283c-46f6-b270-570d212e3d98"
      },
      "source": [
        "ls"
      ],
      "execution_count": 4,
      "outputs": [
        {
          "output_type": "stream",
          "text": [
            "\u001b[0m\u001b[01;34mdrive\u001b[0m/  \u001b[01;34msample_data\u001b[0m/\n"
          ],
          "name": "stdout"
        }
      ]
    },
    {
      "cell_type": "code",
      "metadata": {
        "colab": {
          "base_uri": "https://localhost:8080/"
        },
        "id": "ldZmeBWu2YSS",
        "outputId": "8b49a6b0-b87a-4740-c3b3-f240ce30ed47"
      },
      "source": [
        "cd drive/MyDrive/\r\n"
      ],
      "execution_count": 5,
      "outputs": [
        {
          "output_type": "stream",
          "text": [
            "/content/drive/MyDrive\n"
          ],
          "name": "stdout"
        }
      ]
    },
    {
      "cell_type": "code",
      "metadata": {
        "colab": {
          "base_uri": "https://localhost:8080/",
          "height": 195
        },
        "id": "vY6HTn-22YO6",
        "outputId": "9629e8ba-eeed-4760-8fbb-9f985869a6bf"
      },
      "source": [
        "stock_headlines = pd.read_csv('india-news-headlines.csv')  \r\n",
        "stock_headlines.head()"
      ],
      "execution_count": 6,
      "outputs": [
        {
          "output_type": "execute_result",
          "data": {
            "text/html": [
              "<div>\n",
              "<style scoped>\n",
              "    .dataframe tbody tr th:only-of-type {\n",
              "        vertical-align: middle;\n",
              "    }\n",
              "\n",
              "    .dataframe tbody tr th {\n",
              "        vertical-align: top;\n",
              "    }\n",
              "\n",
              "    .dataframe thead th {\n",
              "        text-align: right;\n",
              "    }\n",
              "</style>\n",
              "<table border=\"1\" class=\"dataframe\">\n",
              "  <thead>\n",
              "    <tr style=\"text-align: right;\">\n",
              "      <th></th>\n",
              "      <th>publish_date</th>\n",
              "      <th>headline_category</th>\n",
              "      <th>headline_text</th>\n",
              "    </tr>\n",
              "  </thead>\n",
              "  <tbody>\n",
              "    <tr>\n",
              "      <th>0</th>\n",
              "      <td>20010101</td>\n",
              "      <td>sports.wwe</td>\n",
              "      <td>win over cena satisfying but defeating underta...</td>\n",
              "    </tr>\n",
              "    <tr>\n",
              "      <th>1</th>\n",
              "      <td>20010102</td>\n",
              "      <td>unknown</td>\n",
              "      <td>Status quo will not be disturbed at Ayodhya; s...</td>\n",
              "    </tr>\n",
              "    <tr>\n",
              "      <th>2</th>\n",
              "      <td>20010102</td>\n",
              "      <td>unknown</td>\n",
              "      <td>Fissures in Hurriyat over Pak visit</td>\n",
              "    </tr>\n",
              "    <tr>\n",
              "      <th>3</th>\n",
              "      <td>20010102</td>\n",
              "      <td>unknown</td>\n",
              "      <td>America's unwanted heading for India?</td>\n",
              "    </tr>\n",
              "    <tr>\n",
              "      <th>4</th>\n",
              "      <td>20010102</td>\n",
              "      <td>unknown</td>\n",
              "      <td>For bigwigs; it is destination Goa</td>\n",
              "    </tr>\n",
              "  </tbody>\n",
              "</table>\n",
              "</div>"
            ],
            "text/plain": [
              "   publish_date  ...                                      headline_text\n",
              "0      20010101  ...  win over cena satisfying but defeating underta...\n",
              "1      20010102  ...  Status quo will not be disturbed at Ayodhya; s...\n",
              "2      20010102  ...                Fissures in Hurriyat over Pak visit\n",
              "3      20010102  ...              America's unwanted heading for India?\n",
              "4      20010102  ...                 For bigwigs; it is destination Goa\n",
              "\n",
              "[5 rows x 3 columns]"
            ]
          },
          "metadata": {
            "tags": []
          },
          "execution_count": 6
        }
      ]
    },
    {
      "cell_type": "code",
      "metadata": {
        "colab": {
          "base_uri": "https://localhost:8080/"
        },
        "id": "w_JXJ7Ba2YMy",
        "outputId": "0f1cdf82-0283-4570-a2c7-4504cecd9d39"
      },
      "source": [
        "# Displaying number of records in both stock_price and stock_headlines datasets\r\n",
        "len(stock_headlines), len(stock_price)"
      ],
      "execution_count": 7,
      "outputs": [
        {
          "output_type": "execute_result",
          "data": {
            "text/plain": [
              "(3297172, 4980)"
            ]
          },
          "metadata": {
            "tags": []
          },
          "execution_count": 7
        }
      ]
    },
    {
      "cell_type": "code",
      "metadata": {
        "colab": {
          "base_uri": "https://localhost:8080/"
        },
        "id": "Ig6NrB-V2YKc",
        "outputId": "675eb84c-fe27-4e0f-caf7-5f7c3afda196"
      },
      "source": [
        "# Checking for null values in both the datasets\r\n",
        "stock_headlines.isna().any(), stock_price.isna().any()"
      ],
      "execution_count": 8,
      "outputs": [
        {
          "output_type": "execute_result",
          "data": {
            "text/plain": [
              "(publish_date         False\n",
              " headline_category    False\n",
              " headline_text        False\n",
              " dtype: bool, Date         False\n",
              " Open         False\n",
              " High         False\n",
              " Low          False\n",
              " Close        False\n",
              " Adj Close    False\n",
              " Volume       False\n",
              " dtype: bool)"
            ]
          },
          "metadata": {
            "tags": []
          },
          "execution_count": 8
        }
      ]
    },
    {
      "cell_type": "code",
      "metadata": {
        "colab": {
          "base_uri": "https://localhost:8080/",
          "height": 431
        },
        "id": "4NGuhTEN2YH-",
        "outputId": "2301ee0d-3e5d-4a58-a841-5a2d471b90e8"
      },
      "source": [
        "# dropping duplicates\r\n",
        "stock_price = stock_price.drop_duplicates()\r\n",
        "\r\n",
        "# coverting the datatype of column 'Date' from type object to type 'datetime'\r\n",
        "stock_price['Date'] = pd.to_datetime(stock_price['Date']).dt.normalize()\r\n",
        "\r\n",
        "# filtering the important columns required\r\n",
        "stock_price = stock_price.filter(['Date', 'Close', 'Open', 'High', 'Low', 'Volume'])\r\n",
        "\r\n",
        "# setting column 'Date' as the index column\r\n",
        "stock_price.set_index('Date', inplace= True)\r\n",
        "\r\n",
        "# sorting the data according to the index i.e 'Date'\r\n",
        "stock_price = stock_price.sort_index(ascending=True, axis=0)\r\n",
        "stock_price"
      ],
      "execution_count": 9,
      "outputs": [
        {
          "output_type": "execute_result",
          "data": {
            "text/html": [
              "<div>\n",
              "<style scoped>\n",
              "    .dataframe tbody tr th:only-of-type {\n",
              "        vertical-align: middle;\n",
              "    }\n",
              "\n",
              "    .dataframe tbody tr th {\n",
              "        vertical-align: top;\n",
              "    }\n",
              "\n",
              "    .dataframe thead th {\n",
              "        text-align: right;\n",
              "    }\n",
              "</style>\n",
              "<table border=\"1\" class=\"dataframe\">\n",
              "  <thead>\n",
              "    <tr style=\"text-align: right;\">\n",
              "      <th></th>\n",
              "      <th>Close</th>\n",
              "      <th>Open</th>\n",
              "      <th>High</th>\n",
              "      <th>Low</th>\n",
              "      <th>Volume</th>\n",
              "    </tr>\n",
              "    <tr>\n",
              "      <th>Date</th>\n",
              "      <th></th>\n",
              "      <th></th>\n",
              "      <th></th>\n",
              "      <th></th>\n",
              "      <th></th>\n",
              "    </tr>\n",
              "  </thead>\n",
              "  <tbody>\n",
              "    <tr>\n",
              "      <th>2001-01-02</th>\n",
              "      <td>1283.270020</td>\n",
              "      <td>1320.280029</td>\n",
              "      <td>1320.280029</td>\n",
              "      <td>1276.050049</td>\n",
              "      <td>1129400000</td>\n",
              "    </tr>\n",
              "    <tr>\n",
              "      <th>2001-01-03</th>\n",
              "      <td>1347.560059</td>\n",
              "      <td>1283.270020</td>\n",
              "      <td>1347.760010</td>\n",
              "      <td>1274.619995</td>\n",
              "      <td>1880700000</td>\n",
              "    </tr>\n",
              "    <tr>\n",
              "      <th>2001-01-04</th>\n",
              "      <td>1333.339966</td>\n",
              "      <td>1347.560059</td>\n",
              "      <td>1350.239990</td>\n",
              "      <td>1329.140015</td>\n",
              "      <td>2131000000</td>\n",
              "    </tr>\n",
              "    <tr>\n",
              "      <th>2001-01-05</th>\n",
              "      <td>1298.349976</td>\n",
              "      <td>1333.339966</td>\n",
              "      <td>1334.770020</td>\n",
              "      <td>1294.949951</td>\n",
              "      <td>1430800000</td>\n",
              "    </tr>\n",
              "    <tr>\n",
              "      <th>2001-01-08</th>\n",
              "      <td>1295.859985</td>\n",
              "      <td>1298.349976</td>\n",
              "      <td>1298.349976</td>\n",
              "      <td>1276.290039</td>\n",
              "      <td>1115500000</td>\n",
              "    </tr>\n",
              "    <tr>\n",
              "      <th>...</th>\n",
              "      <td>...</td>\n",
              "      <td>...</td>\n",
              "      <td>...</td>\n",
              "      <td>...</td>\n",
              "      <td>...</td>\n",
              "    </tr>\n",
              "    <tr>\n",
              "      <th>2020-10-12</th>\n",
              "      <td>3534.219971</td>\n",
              "      <td>3500.020020</td>\n",
              "      <td>3549.850098</td>\n",
              "      <td>3499.610107</td>\n",
              "      <td>3428970000</td>\n",
              "    </tr>\n",
              "    <tr>\n",
              "      <th>2020-10-13</th>\n",
              "      <td>3511.929932</td>\n",
              "      <td>3534.010010</td>\n",
              "      <td>3534.010010</td>\n",
              "      <td>3500.860107</td>\n",
              "      <td>3605150000</td>\n",
              "    </tr>\n",
              "    <tr>\n",
              "      <th>2020-10-14</th>\n",
              "      <td>3488.669922</td>\n",
              "      <td>3515.469971</td>\n",
              "      <td>3527.939941</td>\n",
              "      <td>3480.550049</td>\n",
              "      <td>3840630000</td>\n",
              "    </tr>\n",
              "    <tr>\n",
              "      <th>2020-10-15</th>\n",
              "      <td>3483.340088</td>\n",
              "      <td>3453.719971</td>\n",
              "      <td>3489.080078</td>\n",
              "      <td>3440.889893</td>\n",
              "      <td>3717640000</td>\n",
              "    </tr>\n",
              "    <tr>\n",
              "      <th>2020-10-16</th>\n",
              "      <td>3483.810059</td>\n",
              "      <td>3493.500000</td>\n",
              "      <td>3515.760010</td>\n",
              "      <td>3480.449951</td>\n",
              "      <td>4675890000</td>\n",
              "    </tr>\n",
              "  </tbody>\n",
              "</table>\n",
              "<p>4980 rows × 5 columns</p>\n",
              "</div>"
            ],
            "text/plain": [
              "                  Close         Open         High          Low      Volume\n",
              "Date                                                                      \n",
              "2001-01-02  1283.270020  1320.280029  1320.280029  1276.050049  1129400000\n",
              "2001-01-03  1347.560059  1283.270020  1347.760010  1274.619995  1880700000\n",
              "2001-01-04  1333.339966  1347.560059  1350.239990  1329.140015  2131000000\n",
              "2001-01-05  1298.349976  1333.339966  1334.770020  1294.949951  1430800000\n",
              "2001-01-08  1295.859985  1298.349976  1298.349976  1276.290039  1115500000\n",
              "...                 ...          ...          ...          ...         ...\n",
              "2020-10-12  3534.219971  3500.020020  3549.850098  3499.610107  3428970000\n",
              "2020-10-13  3511.929932  3534.010010  3534.010010  3500.860107  3605150000\n",
              "2020-10-14  3488.669922  3515.469971  3527.939941  3480.550049  3840630000\n",
              "2020-10-15  3483.340088  3453.719971  3489.080078  3440.889893  3717640000\n",
              "2020-10-16  3483.810059  3493.500000  3515.760010  3480.449951  4675890000\n",
              "\n",
              "[4980 rows x 5 columns]"
            ]
          },
          "metadata": {
            "tags": []
          },
          "execution_count": 9
        }
      ]
    },
    {
      "cell_type": "code",
      "metadata": {
        "colab": {
          "base_uri": "https://localhost:8080/",
          "height": 431
        },
        "id": "ulPp9rAb2YFP",
        "outputId": "5b8e7ab3-6e78-44cf-8739-02d3806c8542"
      },
      "source": [
        "# dropping duplicates\r\n",
        "stock_headlines = stock_headlines.drop_duplicates()\r\n",
        "\r\n",
        "# coverting the datatype of column 'Date' from type string to type 'datetime'\r\n",
        "stock_headlines['publish_date'] = stock_headlines['publish_date'].astype(str)\r\n",
        "stock_headlines['publish_date'] = stock_headlines['publish_date'].apply(lambda x: x[0:4]+'-'+x[4:6]+'-'+x[6:8])\r\n",
        "stock_headlines['publish_date'] = pd.to_datetime(stock_headlines['publish_date']).dt.normalize()\r\n",
        "\r\n",
        "# filtering the important columns required\r\n",
        "stock_headlines = stock_headlines.filter(['publish_date', 'headline_text'])\r\n",
        "\r\n",
        "# grouping the news headlines according to 'Date'\r\n",
        "stock_headlines = stock_headlines.groupby(['publish_date'])['headline_text'].apply(lambda x: ','.join(x)).reset_index()\r\n",
        "\r\n",
        "# setting column 'Date' as the index column\r\n",
        "stock_headlines.set_index('publish_date', inplace= True)\r\n",
        "\r\n",
        "# sorting the data according to the index i.e 'Date'\r\n",
        "stock_headlines = stock_headlines.sort_index(ascending=True, axis=0)\r\n",
        "stock_headlines"
      ],
      "execution_count": 10,
      "outputs": [
        {
          "output_type": "execute_result",
          "data": {
            "text/html": [
              "<div>\n",
              "<style scoped>\n",
              "    .dataframe tbody tr th:only-of-type {\n",
              "        vertical-align: middle;\n",
              "    }\n",
              "\n",
              "    .dataframe tbody tr th {\n",
              "        vertical-align: top;\n",
              "    }\n",
              "\n",
              "    .dataframe thead th {\n",
              "        text-align: right;\n",
              "    }\n",
              "</style>\n",
              "<table border=\"1\" class=\"dataframe\">\n",
              "  <thead>\n",
              "    <tr style=\"text-align: right;\">\n",
              "      <th></th>\n",
              "      <th>headline_text</th>\n",
              "    </tr>\n",
              "    <tr>\n",
              "      <th>publish_date</th>\n",
              "      <th></th>\n",
              "    </tr>\n",
              "  </thead>\n",
              "  <tbody>\n",
              "    <tr>\n",
              "      <th>2001-01-01</th>\n",
              "      <td>win over cena satisfying but defeating underta...</td>\n",
              "    </tr>\n",
              "    <tr>\n",
              "      <th>2001-01-02</th>\n",
              "      <td>Status quo will not be disturbed at Ayodhya; s...</td>\n",
              "    </tr>\n",
              "    <tr>\n",
              "      <th>2001-01-03</th>\n",
              "      <td>Powerless north India gropes in the dark,Think...</td>\n",
              "    </tr>\n",
              "    <tr>\n",
              "      <th>2001-01-04</th>\n",
              "      <td>The string that pulled Stephen Hawking to Indi...</td>\n",
              "    </tr>\n",
              "    <tr>\n",
              "      <th>2001-01-05</th>\n",
              "      <td>Light combat craft takes India into club class...</td>\n",
              "    </tr>\n",
              "    <tr>\n",
              "      <th>...</th>\n",
              "      <td>...</td>\n",
              "    </tr>\n",
              "    <tr>\n",
              "      <th>2020-06-26</th>\n",
              "      <td>Containment zone residents slam high prices ch...</td>\n",
              "    </tr>\n",
              "    <tr>\n",
              "      <th>2020-06-27</th>\n",
              "      <td>like me i wont let you have a toxic relationsh...</td>\n",
              "    </tr>\n",
              "    <tr>\n",
              "      <th>2020-06-28</th>\n",
              "      <td>Atanu Ghosh plans to rewrite old scripts to ma...</td>\n",
              "    </tr>\n",
              "    <tr>\n",
              "      <th>2020-06-29</th>\n",
              "      <td>6 hot and stylish bikini looks of Katrina Kaif...</td>\n",
              "    </tr>\n",
              "    <tr>\n",
              "      <th>2020-06-30</th>\n",
              "      <td>Detective Byomkesh Bakshy!,Edge of Tomorrow,Fi...</td>\n",
              "    </tr>\n",
              "  </tbody>\n",
              "</table>\n",
              "<p>7080 rows × 1 columns</p>\n",
              "</div>"
            ],
            "text/plain": [
              "                                                  headline_text\n",
              "publish_date                                                   \n",
              "2001-01-01    win over cena satisfying but defeating underta...\n",
              "2001-01-02    Status quo will not be disturbed at Ayodhya; s...\n",
              "2001-01-03    Powerless north India gropes in the dark,Think...\n",
              "2001-01-04    The string that pulled Stephen Hawking to Indi...\n",
              "2001-01-05    Light combat craft takes India into club class...\n",
              "...                                                         ...\n",
              "2020-06-26    Containment zone residents slam high prices ch...\n",
              "2020-06-27    like me i wont let you have a toxic relationsh...\n",
              "2020-06-28    Atanu Ghosh plans to rewrite old scripts to ma...\n",
              "2020-06-29    6 hot and stylish bikini looks of Katrina Kaif...\n",
              "2020-06-30    Detective Byomkesh Bakshy!,Edge of Tomorrow,Fi...\n",
              "\n",
              "[7080 rows x 1 columns]"
            ]
          },
          "metadata": {
            "tags": []
          },
          "execution_count": 10
        }
      ]
    },
    {
      "cell_type": "code",
      "metadata": {
        "colab": {
          "base_uri": "https://localhost:8080/",
          "height": 402
        },
        "id": "oKznz19D2YC0",
        "outputId": "9044dfef-cc7a-4840-e9b3-80cdd6e501bd"
      },
      "source": [
        "# concatenating the datasets stock_price and stock_headlines\r\n",
        "stock_data = pd.concat([stock_price, stock_headlines], axis=1)\r\n",
        "\r\n",
        "# dropping the null values if any\r\n",
        "stock_data.dropna(axis=0, inplace=True)\r\n",
        "\r\n",
        "# displaying the combined stock_data\r\n",
        "stock_data\r\n"
      ],
      "execution_count": 11,
      "outputs": [
        {
          "output_type": "execute_result",
          "data": {
            "text/html": [
              "<div>\n",
              "<style scoped>\n",
              "    .dataframe tbody tr th:only-of-type {\n",
              "        vertical-align: middle;\n",
              "    }\n",
              "\n",
              "    .dataframe tbody tr th {\n",
              "        vertical-align: top;\n",
              "    }\n",
              "\n",
              "    .dataframe thead th {\n",
              "        text-align: right;\n",
              "    }\n",
              "</style>\n",
              "<table border=\"1\" class=\"dataframe\">\n",
              "  <thead>\n",
              "    <tr style=\"text-align: right;\">\n",
              "      <th></th>\n",
              "      <th>Close</th>\n",
              "      <th>Open</th>\n",
              "      <th>High</th>\n",
              "      <th>Low</th>\n",
              "      <th>Volume</th>\n",
              "      <th>headline_text</th>\n",
              "    </tr>\n",
              "  </thead>\n",
              "  <tbody>\n",
              "    <tr>\n",
              "      <th>2001-01-02</th>\n",
              "      <td>1283.270020</td>\n",
              "      <td>1320.280029</td>\n",
              "      <td>1320.280029</td>\n",
              "      <td>1276.050049</td>\n",
              "      <td>1.129400e+09</td>\n",
              "      <td>Status quo will not be disturbed at Ayodhya; s...</td>\n",
              "    </tr>\n",
              "    <tr>\n",
              "      <th>2001-01-03</th>\n",
              "      <td>1347.560059</td>\n",
              "      <td>1283.270020</td>\n",
              "      <td>1347.760010</td>\n",
              "      <td>1274.619995</td>\n",
              "      <td>1.880700e+09</td>\n",
              "      <td>Powerless north India gropes in the dark,Think...</td>\n",
              "    </tr>\n",
              "    <tr>\n",
              "      <th>2001-01-04</th>\n",
              "      <td>1333.339966</td>\n",
              "      <td>1347.560059</td>\n",
              "      <td>1350.239990</td>\n",
              "      <td>1329.140015</td>\n",
              "      <td>2.131000e+09</td>\n",
              "      <td>The string that pulled Stephen Hawking to Indi...</td>\n",
              "    </tr>\n",
              "    <tr>\n",
              "      <th>2001-01-05</th>\n",
              "      <td>1298.349976</td>\n",
              "      <td>1333.339966</td>\n",
              "      <td>1334.770020</td>\n",
              "      <td>1294.949951</td>\n",
              "      <td>1.430800e+09</td>\n",
              "      <td>Light combat craft takes India into club class...</td>\n",
              "    </tr>\n",
              "    <tr>\n",
              "      <th>2001-01-08</th>\n",
              "      <td>1295.859985</td>\n",
              "      <td>1298.349976</td>\n",
              "      <td>1298.349976</td>\n",
              "      <td>1276.290039</td>\n",
              "      <td>1.115500e+09</td>\n",
              "      <td>Sangh Parivar; Babri panel up the ante,Frontru...</td>\n",
              "    </tr>\n",
              "    <tr>\n",
              "      <th>...</th>\n",
              "      <td>...</td>\n",
              "      <td>...</td>\n",
              "      <td>...</td>\n",
              "      <td>...</td>\n",
              "      <td>...</td>\n",
              "      <td>...</td>\n",
              "    </tr>\n",
              "    <tr>\n",
              "      <th>2020-06-24</th>\n",
              "      <td>3050.330078</td>\n",
              "      <td>3114.399902</td>\n",
              "      <td>3115.010010</td>\n",
              "      <td>3032.129883</td>\n",
              "      <td>5.587200e+09</td>\n",
              "      <td>I never thought I had a voice until today: Vid...</td>\n",
              "    </tr>\n",
              "    <tr>\n",
              "      <th>2020-06-25</th>\n",
              "      <td>3083.760010</td>\n",
              "      <td>3046.600098</td>\n",
              "      <td>3086.250000</td>\n",
              "      <td>3024.010010</td>\n",
              "      <td>4.815420e+09</td>\n",
              "      <td>Truck firms look for new export markets to sel...</td>\n",
              "    </tr>\n",
              "    <tr>\n",
              "      <th>2020-06-26</th>\n",
              "      <td>3009.050049</td>\n",
              "      <td>3073.199951</td>\n",
              "      <td>3073.729980</td>\n",
              "      <td>3004.629883</td>\n",
              "      <td>8.098120e+09</td>\n",
              "      <td>Containment zone residents slam high prices ch...</td>\n",
              "    </tr>\n",
              "    <tr>\n",
              "      <th>2020-06-29</th>\n",
              "      <td>3053.239990</td>\n",
              "      <td>3018.590088</td>\n",
              "      <td>3053.889893</td>\n",
              "      <td>2999.739990</td>\n",
              "      <td>4.462770e+09</td>\n",
              "      <td>6 hot and stylish bikini looks of Katrina Kaif...</td>\n",
              "    </tr>\n",
              "    <tr>\n",
              "      <th>2020-06-30</th>\n",
              "      <td>3100.290039</td>\n",
              "      <td>3050.199951</td>\n",
              "      <td>3111.510010</td>\n",
              "      <td>3047.830078</td>\n",
              "      <td>4.696280e+09</td>\n",
              "      <td>Detective Byomkesh Bakshy!,Edge of Tomorrow,Fi...</td>\n",
              "    </tr>\n",
              "  </tbody>\n",
              "</table>\n",
              "<p>4877 rows × 6 columns</p>\n",
              "</div>"
            ],
            "text/plain": [
              "                  Close  ...                                      headline_text\n",
              "2001-01-02  1283.270020  ...  Status quo will not be disturbed at Ayodhya; s...\n",
              "2001-01-03  1347.560059  ...  Powerless north India gropes in the dark,Think...\n",
              "2001-01-04  1333.339966  ...  The string that pulled Stephen Hawking to Indi...\n",
              "2001-01-05  1298.349976  ...  Light combat craft takes India into club class...\n",
              "2001-01-08  1295.859985  ...  Sangh Parivar; Babri panel up the ante,Frontru...\n",
              "...                 ...  ...                                                ...\n",
              "2020-06-24  3050.330078  ...  I never thought I had a voice until today: Vid...\n",
              "2020-06-25  3083.760010  ...  Truck firms look for new export markets to sel...\n",
              "2020-06-26  3009.050049  ...  Containment zone residents slam high prices ch...\n",
              "2020-06-29  3053.239990  ...  6 hot and stylish bikini looks of Katrina Kaif...\n",
              "2020-06-30  3100.290039  ...  Detective Byomkesh Bakshy!,Edge of Tomorrow,Fi...\n",
              "\n",
              "[4877 rows x 6 columns]"
            ]
          },
          "metadata": {
            "tags": []
          },
          "execution_count": 11
        }
      ]
    },
    {
      "cell_type": "code",
      "metadata": {
        "colab": {
          "base_uri": "https://localhost:8080/",
          "height": 279
        },
        "id": "fyuz5xXo2YAX",
        "outputId": "3cf2d489-51a6-4eed-c95c-33990f95123a"
      },
      "source": [
        "# adding empty sentiment columns to stock_data for later calculation\r\n",
        "stock_data['compound'] = ''\r\n",
        "stock_data['negative'] = ''\r\n",
        "stock_data['neutral'] = ''\r\n",
        "stock_data['positive'] = ''\r\n",
        "stock_data.head()"
      ],
      "execution_count": 12,
      "outputs": [
        {
          "output_type": "execute_result",
          "data": {
            "text/html": [
              "<div>\n",
              "<style scoped>\n",
              "    .dataframe tbody tr th:only-of-type {\n",
              "        vertical-align: middle;\n",
              "    }\n",
              "\n",
              "    .dataframe tbody tr th {\n",
              "        vertical-align: top;\n",
              "    }\n",
              "\n",
              "    .dataframe thead th {\n",
              "        text-align: right;\n",
              "    }\n",
              "</style>\n",
              "<table border=\"1\" class=\"dataframe\">\n",
              "  <thead>\n",
              "    <tr style=\"text-align: right;\">\n",
              "      <th></th>\n",
              "      <th>Close</th>\n",
              "      <th>Open</th>\n",
              "      <th>High</th>\n",
              "      <th>Low</th>\n",
              "      <th>Volume</th>\n",
              "      <th>headline_text</th>\n",
              "      <th>compound</th>\n",
              "      <th>negative</th>\n",
              "      <th>neutral</th>\n",
              "      <th>positive</th>\n",
              "    </tr>\n",
              "  </thead>\n",
              "  <tbody>\n",
              "    <tr>\n",
              "      <th>2001-01-02</th>\n",
              "      <td>1283.270020</td>\n",
              "      <td>1320.280029</td>\n",
              "      <td>1320.280029</td>\n",
              "      <td>1276.050049</td>\n",
              "      <td>1.129400e+09</td>\n",
              "      <td>Status quo will not be disturbed at Ayodhya; s...</td>\n",
              "      <td></td>\n",
              "      <td></td>\n",
              "      <td></td>\n",
              "      <td></td>\n",
              "    </tr>\n",
              "    <tr>\n",
              "      <th>2001-01-03</th>\n",
              "      <td>1347.560059</td>\n",
              "      <td>1283.270020</td>\n",
              "      <td>1347.760010</td>\n",
              "      <td>1274.619995</td>\n",
              "      <td>1.880700e+09</td>\n",
              "      <td>Powerless north India gropes in the dark,Think...</td>\n",
              "      <td></td>\n",
              "      <td></td>\n",
              "      <td></td>\n",
              "      <td></td>\n",
              "    </tr>\n",
              "    <tr>\n",
              "      <th>2001-01-04</th>\n",
              "      <td>1333.339966</td>\n",
              "      <td>1347.560059</td>\n",
              "      <td>1350.239990</td>\n",
              "      <td>1329.140015</td>\n",
              "      <td>2.131000e+09</td>\n",
              "      <td>The string that pulled Stephen Hawking to Indi...</td>\n",
              "      <td></td>\n",
              "      <td></td>\n",
              "      <td></td>\n",
              "      <td></td>\n",
              "    </tr>\n",
              "    <tr>\n",
              "      <th>2001-01-05</th>\n",
              "      <td>1298.349976</td>\n",
              "      <td>1333.339966</td>\n",
              "      <td>1334.770020</td>\n",
              "      <td>1294.949951</td>\n",
              "      <td>1.430800e+09</td>\n",
              "      <td>Light combat craft takes India into club class...</td>\n",
              "      <td></td>\n",
              "      <td></td>\n",
              "      <td></td>\n",
              "      <td></td>\n",
              "    </tr>\n",
              "    <tr>\n",
              "      <th>2001-01-08</th>\n",
              "      <td>1295.859985</td>\n",
              "      <td>1298.349976</td>\n",
              "      <td>1298.349976</td>\n",
              "      <td>1276.290039</td>\n",
              "      <td>1.115500e+09</td>\n",
              "      <td>Sangh Parivar; Babri panel up the ante,Frontru...</td>\n",
              "      <td></td>\n",
              "      <td></td>\n",
              "      <td></td>\n",
              "      <td></td>\n",
              "    </tr>\n",
              "  </tbody>\n",
              "</table>\n",
              "</div>"
            ],
            "text/plain": [
              "                  Close         Open         High  ...  negative  neutral positive\n",
              "2001-01-02  1283.270020  1320.280029  1320.280029  ...                            \n",
              "2001-01-03  1347.560059  1283.270020  1347.760010  ...                            \n",
              "2001-01-04  1333.339966  1347.560059  1350.239990  ...                            \n",
              "2001-01-05  1298.349976  1333.339966  1334.770020  ...                            \n",
              "2001-01-08  1295.859985  1298.349976  1298.349976  ...                            \n",
              "\n",
              "[5 rows x 10 columns]"
            ]
          },
          "metadata": {
            "tags": []
          },
          "execution_count": 12
        }
      ]
    },
    {
      "cell_type": "code",
      "metadata": {
        "colab": {
          "base_uri": "https://localhost:8080/",
          "height": 279
        },
        "id": "Gl9tBCuC2X9_",
        "outputId": "9257f7de-26a0-4f4c-9b55-91d34da4b58c"
      },
      "source": [
        "# importing requires libraries to analyze the sentiments\r\n",
        "from nltk.sentiment.vader import SentimentIntensityAnalyzer\r\n",
        "import unicodedata\r\n",
        "\r\n",
        "# instantiating the Sentiment Analyzer\r\n",
        "sid = SentimentIntensityAnalyzer()\r\n",
        "\r\n",
        "# calculating sentiment scores\r\n",
        "stock_data['compound'] = stock_data['headline_text'].apply(lambda x: sid.polarity_scores(x)['compound'])\r\n",
        "stock_data['negative'] = stock_data['headline_text'].apply(lambda x: sid.polarity_scores(x)['neg'])\r\n",
        "stock_data['neutral'] = stock_data['headline_text'].apply(lambda x: sid.polarity_scores(x)['neu'])\r\n",
        "stock_data['positive'] = stock_data['headline_text'].apply(lambda x: sid.polarity_scores(x)['pos'])\r\n",
        "\r\n",
        "# displaying the stock data\r\n",
        "stock_data.head()"
      ],
      "execution_count": 13,
      "outputs": [
        {
          "output_type": "execute_result",
          "data": {
            "text/html": [
              "<div>\n",
              "<style scoped>\n",
              "    .dataframe tbody tr th:only-of-type {\n",
              "        vertical-align: middle;\n",
              "    }\n",
              "\n",
              "    .dataframe tbody tr th {\n",
              "        vertical-align: top;\n",
              "    }\n",
              "\n",
              "    .dataframe thead th {\n",
              "        text-align: right;\n",
              "    }\n",
              "</style>\n",
              "<table border=\"1\" class=\"dataframe\">\n",
              "  <thead>\n",
              "    <tr style=\"text-align: right;\">\n",
              "      <th></th>\n",
              "      <th>Close</th>\n",
              "      <th>Open</th>\n",
              "      <th>High</th>\n",
              "      <th>Low</th>\n",
              "      <th>Volume</th>\n",
              "      <th>headline_text</th>\n",
              "      <th>compound</th>\n",
              "      <th>negative</th>\n",
              "      <th>neutral</th>\n",
              "      <th>positive</th>\n",
              "    </tr>\n",
              "  </thead>\n",
              "  <tbody>\n",
              "    <tr>\n",
              "      <th>2001-01-02</th>\n",
              "      <td>1283.270020</td>\n",
              "      <td>1320.280029</td>\n",
              "      <td>1320.280029</td>\n",
              "      <td>1276.050049</td>\n",
              "      <td>1.129400e+09</td>\n",
              "      <td>Status quo will not be disturbed at Ayodhya; s...</td>\n",
              "      <td>-0.9621</td>\n",
              "      <td>0.119</td>\n",
              "      <td>0.817</td>\n",
              "      <td>0.064</td>\n",
              "    </tr>\n",
              "    <tr>\n",
              "      <th>2001-01-03</th>\n",
              "      <td>1347.560059</td>\n",
              "      <td>1283.270020</td>\n",
              "      <td>1347.760010</td>\n",
              "      <td>1274.619995</td>\n",
              "      <td>1.880700e+09</td>\n",
              "      <td>Powerless north India gropes in the dark,Think...</td>\n",
              "      <td>0.6322</td>\n",
              "      <td>0.084</td>\n",
              "      <td>0.817</td>\n",
              "      <td>0.098</td>\n",
              "    </tr>\n",
              "    <tr>\n",
              "      <th>2001-01-04</th>\n",
              "      <td>1333.339966</td>\n",
              "      <td>1347.560059</td>\n",
              "      <td>1350.239990</td>\n",
              "      <td>1329.140015</td>\n",
              "      <td>2.131000e+09</td>\n",
              "      <td>The string that pulled Stephen Hawking to Indi...</td>\n",
              "      <td>0.6648</td>\n",
              "      <td>0.077</td>\n",
              "      <td>0.843</td>\n",
              "      <td>0.080</td>\n",
              "    </tr>\n",
              "    <tr>\n",
              "      <th>2001-01-05</th>\n",
              "      <td>1298.349976</td>\n",
              "      <td>1333.339966</td>\n",
              "      <td>1334.770020</td>\n",
              "      <td>1294.949951</td>\n",
              "      <td>1.430800e+09</td>\n",
              "      <td>Light combat craft takes India into club class...</td>\n",
              "      <td>0.9032</td>\n",
              "      <td>0.105</td>\n",
              "      <td>0.746</td>\n",
              "      <td>0.149</td>\n",
              "    </tr>\n",
              "    <tr>\n",
              "      <th>2001-01-08</th>\n",
              "      <td>1295.859985</td>\n",
              "      <td>1298.349976</td>\n",
              "      <td>1298.349976</td>\n",
              "      <td>1276.290039</td>\n",
              "      <td>1.115500e+09</td>\n",
              "      <td>Sangh Parivar; Babri panel up the ante,Frontru...</td>\n",
              "      <td>-0.9638</td>\n",
              "      <td>0.119</td>\n",
              "      <td>0.855</td>\n",
              "      <td>0.026</td>\n",
              "    </tr>\n",
              "  </tbody>\n",
              "</table>\n",
              "</div>"
            ],
            "text/plain": [
              "                  Close         Open         High  ...  negative  neutral positive\n",
              "2001-01-02  1283.270020  1320.280029  1320.280029  ...     0.119    0.817    0.064\n",
              "2001-01-03  1347.560059  1283.270020  1347.760010  ...     0.084    0.817    0.098\n",
              "2001-01-04  1333.339966  1347.560059  1350.239990  ...     0.077    0.843    0.080\n",
              "2001-01-05  1298.349976  1333.339966  1334.770020  ...     0.105    0.746    0.149\n",
              "2001-01-08  1295.859985  1298.349976  1298.349976  ...     0.119    0.855    0.026\n",
              "\n",
              "[5 rows x 10 columns]"
            ]
          },
          "metadata": {
            "tags": []
          },
          "execution_count": 13
        }
      ]
    },
    {
      "cell_type": "code",
      "metadata": {
        "colab": {
          "base_uri": "https://localhost:8080/",
          "height": 195
        },
        "id": "bWf2vDRC2X7d",
        "outputId": "0624b220-3dab-43e4-964d-14dd304ab2ef"
      },
      "source": [
        "# dropping the 'headline_text' which is unwanted now\r\n",
        "stock_data.drop(['headline_text'], inplace=True, axis=1)\r\n",
        "\r\n",
        "# rearranging the columns of the whole stock_data\r\n",
        "stock_data = stock_data[['Close', 'compound', 'negative', 'neutral', 'positive', 'Open', 'High', 'Low', 'Volume']]\r\n",
        "\r\n",
        "# displaying the final stock_data\r\n",
        "stock_data.head()"
      ],
      "execution_count": 14,
      "outputs": [
        {
          "output_type": "execute_result",
          "data": {
            "text/html": [
              "<div>\n",
              "<style scoped>\n",
              "    .dataframe tbody tr th:only-of-type {\n",
              "        vertical-align: middle;\n",
              "    }\n",
              "\n",
              "    .dataframe tbody tr th {\n",
              "        vertical-align: top;\n",
              "    }\n",
              "\n",
              "    .dataframe thead th {\n",
              "        text-align: right;\n",
              "    }\n",
              "</style>\n",
              "<table border=\"1\" class=\"dataframe\">\n",
              "  <thead>\n",
              "    <tr style=\"text-align: right;\">\n",
              "      <th></th>\n",
              "      <th>Close</th>\n",
              "      <th>compound</th>\n",
              "      <th>negative</th>\n",
              "      <th>neutral</th>\n",
              "      <th>positive</th>\n",
              "      <th>Open</th>\n",
              "      <th>High</th>\n",
              "      <th>Low</th>\n",
              "      <th>Volume</th>\n",
              "    </tr>\n",
              "  </thead>\n",
              "  <tbody>\n",
              "    <tr>\n",
              "      <th>2001-01-02</th>\n",
              "      <td>1283.270020</td>\n",
              "      <td>-0.9621</td>\n",
              "      <td>0.119</td>\n",
              "      <td>0.817</td>\n",
              "      <td>0.064</td>\n",
              "      <td>1320.280029</td>\n",
              "      <td>1320.280029</td>\n",
              "      <td>1276.050049</td>\n",
              "      <td>1.129400e+09</td>\n",
              "    </tr>\n",
              "    <tr>\n",
              "      <th>2001-01-03</th>\n",
              "      <td>1347.560059</td>\n",
              "      <td>0.6322</td>\n",
              "      <td>0.084</td>\n",
              "      <td>0.817</td>\n",
              "      <td>0.098</td>\n",
              "      <td>1283.270020</td>\n",
              "      <td>1347.760010</td>\n",
              "      <td>1274.619995</td>\n",
              "      <td>1.880700e+09</td>\n",
              "    </tr>\n",
              "    <tr>\n",
              "      <th>2001-01-04</th>\n",
              "      <td>1333.339966</td>\n",
              "      <td>0.6648</td>\n",
              "      <td>0.077</td>\n",
              "      <td>0.843</td>\n",
              "      <td>0.080</td>\n",
              "      <td>1347.560059</td>\n",
              "      <td>1350.239990</td>\n",
              "      <td>1329.140015</td>\n",
              "      <td>2.131000e+09</td>\n",
              "    </tr>\n",
              "    <tr>\n",
              "      <th>2001-01-05</th>\n",
              "      <td>1298.349976</td>\n",
              "      <td>0.9032</td>\n",
              "      <td>0.105</td>\n",
              "      <td>0.746</td>\n",
              "      <td>0.149</td>\n",
              "      <td>1333.339966</td>\n",
              "      <td>1334.770020</td>\n",
              "      <td>1294.949951</td>\n",
              "      <td>1.430800e+09</td>\n",
              "    </tr>\n",
              "    <tr>\n",
              "      <th>2001-01-08</th>\n",
              "      <td>1295.859985</td>\n",
              "      <td>-0.9638</td>\n",
              "      <td>0.119</td>\n",
              "      <td>0.855</td>\n",
              "      <td>0.026</td>\n",
              "      <td>1298.349976</td>\n",
              "      <td>1298.349976</td>\n",
              "      <td>1276.290039</td>\n",
              "      <td>1.115500e+09</td>\n",
              "    </tr>\n",
              "  </tbody>\n",
              "</table>\n",
              "</div>"
            ],
            "text/plain": [
              "                  Close  compound  ...          Low        Volume\n",
              "2001-01-02  1283.270020   -0.9621  ...  1276.050049  1.129400e+09\n",
              "2001-01-03  1347.560059    0.6322  ...  1274.619995  1.880700e+09\n",
              "2001-01-04  1333.339966    0.6648  ...  1329.140015  2.131000e+09\n",
              "2001-01-05  1298.349976    0.9032  ...  1294.949951  1.430800e+09\n",
              "2001-01-08  1295.859985   -0.9638  ...  1276.290039  1.115500e+09\n",
              "\n",
              "[5 rows x 9 columns]"
            ]
          },
          "metadata": {
            "tags": []
          },
          "execution_count": 14
        }
      ]
    },
    {
      "cell_type": "code",
      "metadata": {
        "id": "F0IkyYok2X5C"
      },
      "source": [
        "# writing the prepared stock_data to disk\r\n",
        "stock_data.to_csv('stock_data.csv')"
      ],
      "execution_count": 15,
      "outputs": []
    },
    {
      "cell_type": "code",
      "metadata": {
        "colab": {
          "base_uri": "https://localhost:8080/",
          "height": 225
        },
        "id": "CxLENiLw2X21",
        "outputId": "7fa1db8e-afc3-4a26-b0c2-6ec0a4bc1fa0"
      },
      "source": [
        "# re-reading the stock_data into pandas dataframe\r\n",
        "stock_data = pd.read_csv('stock_data.csv', index_col = False)\r\n",
        "\r\n",
        "# renaming the column\r\n",
        "stock_data.rename(columns={'Unnamed: 0':'Date'}, inplace = True)\r\n",
        "\r\n",
        "# setting the column 'Date' as the index column\r\n",
        "stock_data.set_index('Date', inplace=True)\r\n",
        "\r\n",
        "# displaying the stock_data\r\n",
        "stock_data.head()"
      ],
      "execution_count": 16,
      "outputs": [
        {
          "output_type": "execute_result",
          "data": {
            "text/html": [
              "<div>\n",
              "<style scoped>\n",
              "    .dataframe tbody tr th:only-of-type {\n",
              "        vertical-align: middle;\n",
              "    }\n",
              "\n",
              "    .dataframe tbody tr th {\n",
              "        vertical-align: top;\n",
              "    }\n",
              "\n",
              "    .dataframe thead th {\n",
              "        text-align: right;\n",
              "    }\n",
              "</style>\n",
              "<table border=\"1\" class=\"dataframe\">\n",
              "  <thead>\n",
              "    <tr style=\"text-align: right;\">\n",
              "      <th></th>\n",
              "      <th>Close</th>\n",
              "      <th>compound</th>\n",
              "      <th>negative</th>\n",
              "      <th>neutral</th>\n",
              "      <th>positive</th>\n",
              "      <th>Open</th>\n",
              "      <th>High</th>\n",
              "      <th>Low</th>\n",
              "      <th>Volume</th>\n",
              "    </tr>\n",
              "    <tr>\n",
              "      <th>Date</th>\n",
              "      <th></th>\n",
              "      <th></th>\n",
              "      <th></th>\n",
              "      <th></th>\n",
              "      <th></th>\n",
              "      <th></th>\n",
              "      <th></th>\n",
              "      <th></th>\n",
              "      <th></th>\n",
              "    </tr>\n",
              "  </thead>\n",
              "  <tbody>\n",
              "    <tr>\n",
              "      <th>2001-01-02</th>\n",
              "      <td>1283.270020</td>\n",
              "      <td>-0.9621</td>\n",
              "      <td>0.119</td>\n",
              "      <td>0.817</td>\n",
              "      <td>0.064</td>\n",
              "      <td>1320.280029</td>\n",
              "      <td>1320.280029</td>\n",
              "      <td>1276.050049</td>\n",
              "      <td>1.129400e+09</td>\n",
              "    </tr>\n",
              "    <tr>\n",
              "      <th>2001-01-03</th>\n",
              "      <td>1347.560059</td>\n",
              "      <td>0.6322</td>\n",
              "      <td>0.084</td>\n",
              "      <td>0.817</td>\n",
              "      <td>0.098</td>\n",
              "      <td>1283.270020</td>\n",
              "      <td>1347.760010</td>\n",
              "      <td>1274.619995</td>\n",
              "      <td>1.880700e+09</td>\n",
              "    </tr>\n",
              "    <tr>\n",
              "      <th>2001-01-04</th>\n",
              "      <td>1333.339966</td>\n",
              "      <td>0.6648</td>\n",
              "      <td>0.077</td>\n",
              "      <td>0.843</td>\n",
              "      <td>0.080</td>\n",
              "      <td>1347.560059</td>\n",
              "      <td>1350.239990</td>\n",
              "      <td>1329.140015</td>\n",
              "      <td>2.131000e+09</td>\n",
              "    </tr>\n",
              "    <tr>\n",
              "      <th>2001-01-05</th>\n",
              "      <td>1298.349976</td>\n",
              "      <td>0.9032</td>\n",
              "      <td>0.105</td>\n",
              "      <td>0.746</td>\n",
              "      <td>0.149</td>\n",
              "      <td>1333.339966</td>\n",
              "      <td>1334.770020</td>\n",
              "      <td>1294.949951</td>\n",
              "      <td>1.430800e+09</td>\n",
              "    </tr>\n",
              "    <tr>\n",
              "      <th>2001-01-08</th>\n",
              "      <td>1295.859985</td>\n",
              "      <td>-0.9638</td>\n",
              "      <td>0.119</td>\n",
              "      <td>0.855</td>\n",
              "      <td>0.026</td>\n",
              "      <td>1298.349976</td>\n",
              "      <td>1298.349976</td>\n",
              "      <td>1276.290039</td>\n",
              "      <td>1.115500e+09</td>\n",
              "    </tr>\n",
              "  </tbody>\n",
              "</table>\n",
              "</div>"
            ],
            "text/plain": [
              "                  Close  compound  ...          Low        Volume\n",
              "Date                               ...                           \n",
              "2001-01-02  1283.270020   -0.9621  ...  1276.050049  1.129400e+09\n",
              "2001-01-03  1347.560059    0.6322  ...  1274.619995  1.880700e+09\n",
              "2001-01-04  1333.339966    0.6648  ...  1329.140015  2.131000e+09\n",
              "2001-01-05  1298.349976    0.9032  ...  1294.949951  1.430800e+09\n",
              "2001-01-08  1295.859985   -0.9638  ...  1276.290039  1.115500e+09\n",
              "\n",
              "[5 rows x 9 columns]"
            ]
          },
          "metadata": {
            "tags": []
          },
          "execution_count": 16
        }
      ]
    },
    {
      "cell_type": "code",
      "metadata": {
        "colab": {
          "base_uri": "https://localhost:8080/"
        },
        "id": "9JP2cTIx2X0X",
        "outputId": "9f68ea89-8719-4446-f579-9415085d750e"
      },
      "source": [
        "# displaying the shape i.e. number of rows and columns of stock_data\r\n",
        "stock_data.shape"
      ],
      "execution_count": 17,
      "outputs": [
        {
          "output_type": "execute_result",
          "data": {
            "text/plain": [
              "(4877, 9)"
            ]
          },
          "metadata": {
            "tags": []
          },
          "execution_count": 17
        }
      ]
    },
    {
      "cell_type": "code",
      "metadata": {
        "colab": {
          "base_uri": "https://localhost:8080/"
        },
        "id": "3tpW3Zr52Xx2",
        "outputId": "e8a2c119-f91b-46c4-e557-414b026dc90c"
      },
      "source": [
        "stock_data.isna().any()"
      ],
      "execution_count": 18,
      "outputs": [
        {
          "output_type": "execute_result",
          "data": {
            "text/plain": [
              "Close       False\n",
              "compound    False\n",
              "negative    False\n",
              "neutral     False\n",
              "positive    False\n",
              "Open        False\n",
              "High        False\n",
              "Low         False\n",
              "Volume      False\n",
              "dtype: bool"
            ]
          },
          "metadata": {
            "tags": []
          },
          "execution_count": 18
        }
      ]
    },
    {
      "cell_type": "code",
      "metadata": {
        "colab": {
          "base_uri": "https://localhost:8080/",
          "height": 284
        },
        "id": "juNOW9xR2XvW",
        "outputId": "aa16cbbf-2512-4c37-afba-0e67fa8e3ac2"
      },
      "source": [
        "# displaying stock_data statistics\r\n",
        "stock_data.describe(include='all')"
      ],
      "execution_count": 19,
      "outputs": [
        {
          "output_type": "execute_result",
          "data": {
            "text/html": [
              "<div>\n",
              "<style scoped>\n",
              "    .dataframe tbody tr th:only-of-type {\n",
              "        vertical-align: middle;\n",
              "    }\n",
              "\n",
              "    .dataframe tbody tr th {\n",
              "        vertical-align: top;\n",
              "    }\n",
              "\n",
              "    .dataframe thead th {\n",
              "        text-align: right;\n",
              "    }\n",
              "</style>\n",
              "<table border=\"1\" class=\"dataframe\">\n",
              "  <thead>\n",
              "    <tr style=\"text-align: right;\">\n",
              "      <th></th>\n",
              "      <th>Close</th>\n",
              "      <th>compound</th>\n",
              "      <th>negative</th>\n",
              "      <th>neutral</th>\n",
              "      <th>positive</th>\n",
              "      <th>Open</th>\n",
              "      <th>High</th>\n",
              "      <th>Low</th>\n",
              "      <th>Volume</th>\n",
              "    </tr>\n",
              "  </thead>\n",
              "  <tbody>\n",
              "    <tr>\n",
              "      <th>count</th>\n",
              "      <td>4877.000000</td>\n",
              "      <td>4877.000000</td>\n",
              "      <td>4877.000000</td>\n",
              "      <td>4877.000000</td>\n",
              "      <td>4877.000000</td>\n",
              "      <td>4877.000000</td>\n",
              "      <td>4877.000000</td>\n",
              "      <td>4877.000000</td>\n",
              "      <td>4.877000e+03</td>\n",
              "    </tr>\n",
              "    <tr>\n",
              "      <th>mean</th>\n",
              "      <td>1620.736061</td>\n",
              "      <td>-0.870185</td>\n",
              "      <td>0.125720</td>\n",
              "      <td>0.788116</td>\n",
              "      <td>0.086175</td>\n",
              "      <td>1620.504139</td>\n",
              "      <td>1629.706190</td>\n",
              "      <td>1610.499933</td>\n",
              "      <td>3.269558e+09</td>\n",
              "    </tr>\n",
              "    <tr>\n",
              "      <th>std</th>\n",
              "      <td>635.426465</td>\n",
              "      <td>0.453365</td>\n",
              "      <td>0.024431</td>\n",
              "      <td>0.033153</td>\n",
              "      <td>0.020881</td>\n",
              "      <td>635.419166</td>\n",
              "      <td>637.106093</td>\n",
              "      <td>633.367806</td>\n",
              "      <td>1.475082e+09</td>\n",
              "    </tr>\n",
              "    <tr>\n",
              "      <th>min</th>\n",
              "      <td>676.530029</td>\n",
              "      <td>-1.000000</td>\n",
              "      <td>0.000000</td>\n",
              "      <td>0.000000</td>\n",
              "      <td>0.000000</td>\n",
              "      <td>679.280029</td>\n",
              "      <td>695.270020</td>\n",
              "      <td>666.789978</td>\n",
              "      <td>3.560700e+08</td>\n",
              "    </tr>\n",
              "    <tr>\n",
              "      <th>25%</th>\n",
              "      <td>1145.599976</td>\n",
              "      <td>-0.999800</td>\n",
              "      <td>0.112000</td>\n",
              "      <td>0.768000</td>\n",
              "      <td>0.075000</td>\n",
              "      <td>1145.540039</td>\n",
              "      <td>1152.439941</td>\n",
              "      <td>1136.979980</td>\n",
              "      <td>2.079340e+09</td>\n",
              "    </tr>\n",
              "    <tr>\n",
              "      <th>50%</th>\n",
              "      <td>1358.040039</td>\n",
              "      <td>-0.999000</td>\n",
              "      <td>0.127000</td>\n",
              "      <td>0.785000</td>\n",
              "      <td>0.086000</td>\n",
              "      <td>1357.979980</td>\n",
              "      <td>1365.489990</td>\n",
              "      <td>1348.510010</td>\n",
              "      <td>3.327480e+09</td>\n",
              "    </tr>\n",
              "    <tr>\n",
              "      <th>75%</th>\n",
              "      <td>2063.500000</td>\n",
              "      <td>-0.994100</td>\n",
              "      <td>0.141000</td>\n",
              "      <td>0.806000</td>\n",
              "      <td>0.096000</td>\n",
              "      <td>2063.010010</td>\n",
              "      <td>2073.850098</td>\n",
              "      <td>2051.989990</td>\n",
              "      <td>4.025840e+09</td>\n",
              "    </tr>\n",
              "    <tr>\n",
              "      <th>max</th>\n",
              "      <td>3386.149902</td>\n",
              "      <td>1.000000</td>\n",
              "      <td>0.444000</td>\n",
              "      <td>1.000000</td>\n",
              "      <td>0.608000</td>\n",
              "      <td>3380.449951</td>\n",
              "      <td>3393.520020</td>\n",
              "      <td>3378.830078</td>\n",
              "      <td>1.145623e+10</td>\n",
              "    </tr>\n",
              "  </tbody>\n",
              "</table>\n",
              "</div>"
            ],
            "text/plain": [
              "             Close     compound  ...          Low        Volume\n",
              "count  4877.000000  4877.000000  ...  4877.000000  4.877000e+03\n",
              "mean   1620.736061    -0.870185  ...  1610.499933  3.269558e+09\n",
              "std     635.426465     0.453365  ...   633.367806  1.475082e+09\n",
              "min     676.530029    -1.000000  ...   666.789978  3.560700e+08\n",
              "25%    1145.599976    -0.999800  ...  1136.979980  2.079340e+09\n",
              "50%    1358.040039    -0.999000  ...  1348.510010  3.327480e+09\n",
              "75%    2063.500000    -0.994100  ...  2051.989990  4.025840e+09\n",
              "max    3386.149902     1.000000  ...  3378.830078  1.145623e+10\n",
              "\n",
              "[8 rows x 9 columns]"
            ]
          },
          "metadata": {
            "tags": []
          },
          "execution_count": 19
        }
      ]
    },
    {
      "cell_type": "code",
      "metadata": {
        "colab": {
          "base_uri": "https://localhost:8080/"
        },
        "id": "neGukGIQ2XtG",
        "outputId": "bc9a6621-02ea-43b6-80fb-e731c16b6b5b"
      },
      "source": [
        "# displaying stock_data information\r\n",
        "stock_data.info()"
      ],
      "execution_count": 20,
      "outputs": [
        {
          "output_type": "stream",
          "text": [
            "<class 'pandas.core.frame.DataFrame'>\n",
            "Index: 4877 entries, 2001-01-02 to 2020-06-30\n",
            "Data columns (total 9 columns):\n",
            " #   Column    Non-Null Count  Dtype  \n",
            "---  ------    --------------  -----  \n",
            " 0   Close     4877 non-null   float64\n",
            " 1   compound  4877 non-null   float64\n",
            " 2   negative  4877 non-null   float64\n",
            " 3   neutral   4877 non-null   float64\n",
            " 4   positive  4877 non-null   float64\n",
            " 5   Open      4877 non-null   float64\n",
            " 6   High      4877 non-null   float64\n",
            " 7   Low       4877 non-null   float64\n",
            " 8   Volume    4877 non-null   float64\n",
            "dtypes: float64(9)\n",
            "memory usage: 381.0+ KB\n"
          ],
          "name": "stdout"
        }
      ]
    },
    {
      "cell_type": "code",
      "metadata": {
        "colab": {
          "base_uri": "https://localhost:8080/",
          "height": 638
        },
        "id": "En_ZcxWu2XqX",
        "outputId": "7275d19c-f952-426d-85fd-96cb25277efb"
      },
      "source": [
        "\r\n",
        "# setting figure size\r\n",
        "plt.figure(figsize=(16,10))\r\n",
        "\r\n",
        "# plotting close price\r\n",
        "stock_data['Close'].plot()\r\n",
        "\r\n",
        "# setting plot title, x and y labels\r\n",
        "plt.title(\"Close Price\")\r\n",
        "plt.xlabel('Date')\r\n",
        "plt.ylabel('Close Price ($)')"
      ],
      "execution_count": 21,
      "outputs": [
        {
          "output_type": "execute_result",
          "data": {
            "text/plain": [
              "Text(0, 0.5, 'Close Price ($)')"
            ]
          },
          "metadata": {
            "tags": []
          },
          "execution_count": 21
        },
        {
          "output_type": "display_data",
          "data": {
            "image/png": "[encoded data removed]",
            "text/plain": [
              "<Figure size 1152x720 with 1 Axes>"
            ]
          },
          "metadata": {
            "tags": [],
            "needs_background": "light"
          }
        }
      ]
    },
    {
      "cell_type": "code",
      "metadata": {
        "colab": {
          "base_uri": "https://localhost:8080/",
          "height": 669
        },
        "id": "1oANDdKj2XHo",
        "outputId": "9eb83e8d-bbf4-497e-9dec-b0db214a7e97"
      },
      "source": [
        "\r\n",
        "# calculating 7 day rolling mean\r\n",
        "stock_data.rolling(7).mean().head(20)"
      ],
      "execution_count": 22,
      "outputs": [
        {
          "output_type": "execute_result",
          "data": {
            "text/html": [
              "<div>\n",
              "<style scoped>\n",
              "    .dataframe tbody tr th:only-of-type {\n",
              "        vertical-align: middle;\n",
              "    }\n",
              "\n",
              "    .dataframe tbody tr th {\n",
              "        vertical-align: top;\n",
              "    }\n",
              "\n",
              "    .dataframe thead th {\n",
              "        text-align: right;\n",
              "    }\n",
              "</style>\n",
              "<table border=\"1\" class=\"dataframe\">\n",
              "  <thead>\n",
              "    <tr style=\"text-align: right;\">\n",
              "      <th></th>\n",
              "      <th>Close</th>\n",
              "      <th>compound</th>\n",
              "      <th>negative</th>\n",
              "      <th>neutral</th>\n",
              "      <th>positive</th>\n",
              "      <th>Open</th>\n",
              "      <th>High</th>\n",
              "      <th>Low</th>\n",
              "      <th>Volume</th>\n",
              "    </tr>\n",
              "    <tr>\n",
              "      <th>Date</th>\n",
              "      <th></th>\n",
              "      <th></th>\n",
              "      <th></th>\n",
              "      <th></th>\n",
              "      <th></th>\n",
              "      <th></th>\n",
              "      <th></th>\n",
              "      <th></th>\n",
              "      <th></th>\n",
              "    </tr>\n",
              "  </thead>\n",
              "  <tbody>\n",
              "    <tr>\n",
              "      <th>2001-01-02</th>\n",
              "      <td>NaN</td>\n",
              "      <td>NaN</td>\n",
              "      <td>NaN</td>\n",
              "      <td>NaN</td>\n",
              "      <td>NaN</td>\n",
              "      <td>NaN</td>\n",
              "      <td>NaN</td>\n",
              "      <td>NaN</td>\n",
              "      <td>NaN</td>\n",
              "    </tr>\n",
              "    <tr>\n",
              "      <th>2001-01-03</th>\n",
              "      <td>NaN</td>\n",
              "      <td>NaN</td>\n",
              "      <td>NaN</td>\n",
              "      <td>NaN</td>\n",
              "      <td>NaN</td>\n",
              "      <td>NaN</td>\n",
              "      <td>NaN</td>\n",
              "      <td>NaN</td>\n",
              "      <td>NaN</td>\n",
              "    </tr>\n",
              "    <tr>\n",
              "      <th>2001-01-04</th>\n",
              "      <td>NaN</td>\n",
              "      <td>NaN</td>\n",
              "      <td>NaN</td>\n",
              "      <td>NaN</td>\n",
              "      <td>NaN</td>\n",
              "      <td>NaN</td>\n",
              "      <td>NaN</td>\n",
              "      <td>NaN</td>\n",
              "      <td>NaN</td>\n",
              "    </tr>\n",
              "    <tr>\n",
              "      <th>2001-01-05</th>\n",
              "      <td>NaN</td>\n",
              "      <td>NaN</td>\n",
              "      <td>NaN</td>\n",
              "      <td>NaN</td>\n",
              "      <td>NaN</td>\n",
              "      <td>NaN</td>\n",
              "      <td>NaN</td>\n",
              "      <td>NaN</td>\n",
              "      <td>NaN</td>\n",
              "    </tr>\n",
              "    <tr>\n",
              "      <th>2001-01-08</th>\n",
              "      <td>NaN</td>\n",
              "      <td>NaN</td>\n",
              "      <td>NaN</td>\n",
              "      <td>NaN</td>\n",
              "      <td>NaN</td>\n",
              "      <td>NaN</td>\n",
              "      <td>NaN</td>\n",
              "      <td>NaN</td>\n",
              "      <td>NaN</td>\n",
              "    </tr>\n",
              "    <tr>\n",
              "      <th>2001-01-09</th>\n",
              "      <td>NaN</td>\n",
              "      <td>NaN</td>\n",
              "      <td>NaN</td>\n",
              "      <td>NaN</td>\n",
              "      <td>NaN</td>\n",
              "      <td>NaN</td>\n",
              "      <td>NaN</td>\n",
              "      <td>NaN</td>\n",
              "      <td>NaN</td>\n",
              "    </tr>\n",
              "    <tr>\n",
              "      <th>2001-01-10</th>\n",
              "      <td>1310.350011</td>\n",
              "      <td>-0.179071</td>\n",
              "      <td>0.121714</td>\n",
              "      <td>0.810429</td>\n",
              "      <td>0.067571</td>\n",
              "      <td>1311.351441</td>\n",
              "      <td>1325.268572</td>\n",
              "      <td>1290.495728</td>\n",
              "      <td>1.453600e+09</td>\n",
              "    </tr>\n",
              "    <tr>\n",
              "      <th>2001-01-11</th>\n",
              "      <td>1316.571429</td>\n",
              "      <td>-0.041629</td>\n",
              "      <td>0.117857</td>\n",
              "      <td>0.810286</td>\n",
              "      <td>0.071571</td>\n",
              "      <td>1310.350011</td>\n",
              "      <td>1326.969988</td>\n",
              "      <td>1295.305716</td>\n",
              "      <td>1.493857e+09</td>\n",
              "    </tr>\n",
              "    <tr>\n",
              "      <th>2001-01-23</th>\n",
              "      <td>1318.405709</td>\n",
              "      <td>0.000843</td>\n",
              "      <td>0.111000</td>\n",
              "      <td>0.818429</td>\n",
              "      <td>0.070429</td>\n",
              "      <td>1318.868583</td>\n",
              "      <td>1329.132847</td>\n",
              "      <td>1304.592861</td>\n",
              "      <td>1.401271e+09</td>\n",
              "    </tr>\n",
              "    <tr>\n",
              "      <th>2001-01-24</th>\n",
              "      <td>1322.828578</td>\n",
              "      <td>-0.223257</td>\n",
              "      <td>0.113714</td>\n",
              "      <td>0.821286</td>\n",
              "      <td>0.064714</td>\n",
              "      <td>1320.702863</td>\n",
              "      <td>1331.919992</td>\n",
              "      <td>1308.612863</td>\n",
              "      <td>1.283843e+09</td>\n",
              "    </tr>\n",
              "    <tr>\n",
              "      <th>2001-01-25</th>\n",
              "      <td>1331.280012</td>\n",
              "      <td>-0.493057</td>\n",
              "      <td>0.118286</td>\n",
              "      <td>0.827857</td>\n",
              "      <td>0.053571</td>\n",
              "      <td>1325.125732</td>\n",
              "      <td>1336.574271</td>\n",
              "      <td>1317.138585</td>\n",
              "      <td>1.259157e+09</td>\n",
              "    </tr>\n",
              "    <tr>\n",
              "      <th>2001-01-26</th>\n",
              "      <td>1339.721436</td>\n",
              "      <td>-0.227857</td>\n",
              "      <td>0.110714</td>\n",
              "      <td>0.822571</td>\n",
              "      <td>0.066429</td>\n",
              "      <td>1333.577166</td>\n",
              "      <td>1345.025705</td>\n",
              "      <td>1326.632865</td>\n",
              "      <td>1.256657e+09</td>\n",
              "    </tr>\n",
              "    <tr>\n",
              "      <th>2001-01-29</th>\n",
              "      <td>1348.774292</td>\n",
              "      <td>0.047229</td>\n",
              "      <td>0.099286</td>\n",
              "      <td>0.823571</td>\n",
              "      <td>0.077000</td>\n",
              "      <td>1342.014317</td>\n",
              "      <td>1352.714286</td>\n",
              "      <td>1334.521432</td>\n",
              "      <td>1.236914e+09</td>\n",
              "    </tr>\n",
              "    <tr>\n",
              "      <th>2001-01-30</th>\n",
              "      <td>1357.411429</td>\n",
              "      <td>0.006357</td>\n",
              "      <td>0.083571</td>\n",
              "      <td>0.828571</td>\n",
              "      <td>0.087714</td>\n",
              "      <td>1351.067174</td>\n",
              "      <td>1361.560006</td>\n",
              "      <td>1344.367135</td>\n",
              "      <td>1.215957e+09</td>\n",
              "    </tr>\n",
              "    <tr>\n",
              "      <th>2001-01-31</th>\n",
              "      <td>1363.010010</td>\n",
              "      <td>-0.073514</td>\n",
              "      <td>0.084286</td>\n",
              "      <td>0.832286</td>\n",
              "      <td>0.083286</td>\n",
              "      <td>1359.704311</td>\n",
              "      <td>1368.871443</td>\n",
              "      <td>1352.215716</td>\n",
              "      <td>1.199400e+09</td>\n",
              "    </tr>\n",
              "    <tr>\n",
              "      <th>2001-02-01</th>\n",
              "      <td>1364.877145</td>\n",
              "      <td>-0.324900</td>\n",
              "      <td>0.094286</td>\n",
              "      <td>0.825714</td>\n",
              "      <td>0.079857</td>\n",
              "      <td>1363.005737</td>\n",
              "      <td>1370.385725</td>\n",
              "      <td>1355.031424</td>\n",
              "      <td>1.183143e+09</td>\n",
              "    </tr>\n",
              "    <tr>\n",
              "      <th>2001-02-02</th>\n",
              "      <td>1362.758562</td>\n",
              "      <td>-0.057300</td>\n",
              "      <td>0.090286</td>\n",
              "      <td>0.804429</td>\n",
              "      <td>0.105286</td>\n",
              "      <td>1364.872873</td>\n",
              "      <td>1371.332868</td>\n",
              "      <td>1353.808559</td>\n",
              "      <td>1.145914e+09</td>\n",
              "    </tr>\n",
              "    <tr>\n",
              "      <th>2001-02-05</th>\n",
              "      <td>1362.301427</td>\n",
              "      <td>0.158714</td>\n",
              "      <td>0.087571</td>\n",
              "      <td>0.797000</td>\n",
              "      <td>0.115429</td>\n",
              "      <td>1362.754290</td>\n",
              "      <td>1369.505737</td>\n",
              "      <td>1352.358555</td>\n",
              "      <td>1.110914e+09</td>\n",
              "    </tr>\n",
              "    <tr>\n",
              "      <th>2001-02-06</th>\n",
              "      <td>1361.917149</td>\n",
              "      <td>0.140486</td>\n",
              "      <td>0.087286</td>\n",
              "      <td>0.799000</td>\n",
              "      <td>0.113714</td>\n",
              "      <td>1362.297154</td>\n",
              "      <td>1370.368600</td>\n",
              "      <td>1353.399989</td>\n",
              "      <td>1.105429e+09</td>\n",
              "    </tr>\n",
              "    <tr>\n",
              "      <th>2001-02-07</th>\n",
              "      <td>1358.591431</td>\n",
              "      <td>0.121786</td>\n",
              "      <td>0.090000</td>\n",
              "      <td>0.796714</td>\n",
              "      <td>0.113286</td>\n",
              "      <td>1361.917149</td>\n",
              "      <td>1368.471453</td>\n",
              "      <td>1351.099993</td>\n",
              "      <td>1.120457e+09</td>\n",
              "    </tr>\n",
              "  </tbody>\n",
              "</table>\n",
              "</div>"
            ],
            "text/plain": [
              "                  Close  compound  ...          Low        Volume\n",
              "Date                               ...                           \n",
              "2001-01-02          NaN       NaN  ...          NaN           NaN\n",
              "2001-01-03          NaN       NaN  ...          NaN           NaN\n",
              "2001-01-04          NaN       NaN  ...          NaN           NaN\n",
              "2001-01-05          NaN       NaN  ...          NaN           NaN\n",
              "2001-01-08          NaN       NaN  ...          NaN           NaN\n",
              "2001-01-09          NaN       NaN  ...          NaN           NaN\n",
              "2001-01-10  1310.350011 -0.179071  ...  1290.495728  1.453600e+09\n",
              "2001-01-11  1316.571429 -0.041629  ...  1295.305716  1.493857e+09\n",
              "2001-01-23  1318.405709  0.000843  ...  1304.592861  1.401271e+09\n",
              "2001-01-24  1322.828578 -0.223257  ...  1308.612863  1.283843e+09\n",
              "2001-01-25  1331.280012 -0.493057  ...  1317.138585  1.259157e+09\n",
              "2001-01-26  1339.721436 -0.227857  ...  1326.632865  1.256657e+09\n",
              "2001-01-29  1348.774292  0.047229  ...  1334.521432  1.236914e+09\n",
              "2001-01-30  1357.411429  0.006357  ...  1344.367135  1.215957e+09\n",
              "2001-01-31  1363.010010 -0.073514  ...  1352.215716  1.199400e+09\n",
              "2001-02-01  1364.877145 -0.324900  ...  1355.031424  1.183143e+09\n",
              "2001-02-02  1362.758562 -0.057300  ...  1353.808559  1.145914e+09\n",
              "2001-02-05  1362.301427  0.158714  ...  1352.358555  1.110914e+09\n",
              "2001-02-06  1361.917149  0.140486  ...  1353.399989  1.105429e+09\n",
              "2001-02-07  1358.591431  0.121786  ...  1351.099993  1.120457e+09\n",
              "\n",
              "[20 rows x 9 columns]"
            ]
          },
          "metadata": {
            "tags": []
          },
          "execution_count": 22
        }
      ]
    },
    {
      "cell_type": "code",
      "metadata": {
        "colab": {
          "base_uri": "https://localhost:8080/",
          "height": 623
        },
        "id": "rV47_dKR3FGT",
        "outputId": "ce66172c-d51d-4abd-fa28-2798e7f7632e"
      },
      "source": [
        "# setting figure size\r\n",
        "plt.figure(figsize=(16,10))\r\n",
        "\r\n",
        "# plotting the close price and a 30-day rolling mean of close price\r\n",
        "stock_data['Close'].plot()\r\n",
        "stock_data.rolling(window=30).mean()['Close'].plot()"
      ],
      "execution_count": 23,
      "outputs": [
        {
          "output_type": "execute_result",
          "data": {
            "text/plain": [
              "<matplotlib.axes._subplots.AxesSubplot at 0x7f078ea81518>"
            ]
          },
          "metadata": {
            "tags": []
          },
          "execution_count": 23
        },
        {
          "output_type": "display_data",
          "data": {
            "image/png": "[encoded data removed]",
            "text/plain": [
              "<Figure size 1152x720 with 1 Axes>"
            ]
          },
          "metadata": {
            "tags": [],
            "needs_background": "light"
          }
        }
      ]
    },
    {
      "cell_type": "code",
      "metadata": {
        "colab": {
          "base_uri": "https://localhost:8080/",
          "height": 431
        },
        "id": "T-vhQQqY3FEA",
        "outputId": "330e4f7a-3b29-4d7c-ee2c-a5a650dc1bf1"
      },
      "source": [
        "# displaying stock_data\r\n",
        "stock_data"
      ],
      "execution_count": 24,
      "outputs": [
        {
          "output_type": "execute_result",
          "data": {
            "text/html": [
              "<div>\n",
              "<style scoped>\n",
              "    .dataframe tbody tr th:only-of-type {\n",
              "        vertical-align: middle;\n",
              "    }\n",
              "\n",
              "    .dataframe tbody tr th {\n",
              "        vertical-align: top;\n",
              "    }\n",
              "\n",
              "    .dataframe thead th {\n",
              "        text-align: right;\n",
              "    }\n",
              "</style>\n",
              "<table border=\"1\" class=\"dataframe\">\n",
              "  <thead>\n",
              "    <tr style=\"text-align: right;\">\n",
              "      <th></th>\n",
              "      <th>Close</th>\n",
              "      <th>compound</th>\n",
              "      <th>negative</th>\n",
              "      <th>neutral</th>\n",
              "      <th>positive</th>\n",
              "      <th>Open</th>\n",
              "      <th>High</th>\n",
              "      <th>Low</th>\n",
              "      <th>Volume</th>\n",
              "    </tr>\n",
              "    <tr>\n",
              "      <th>Date</th>\n",
              "      <th></th>\n",
              "      <th></th>\n",
              "      <th></th>\n",
              "      <th></th>\n",
              "      <th></th>\n",
              "      <th></th>\n",
              "      <th></th>\n",
              "      <th></th>\n",
              "      <th></th>\n",
              "    </tr>\n",
              "  </thead>\n",
              "  <tbody>\n",
              "    <tr>\n",
              "      <th>2001-01-02</th>\n",
              "      <td>1283.270020</td>\n",
              "      <td>-0.9621</td>\n",
              "      <td>0.119</td>\n",
              "      <td>0.817</td>\n",
              "      <td>0.064</td>\n",
              "      <td>1320.280029</td>\n",
              "      <td>1320.280029</td>\n",
              "      <td>1276.050049</td>\n",
              "      <td>1.129400e+09</td>\n",
              "    </tr>\n",
              "    <tr>\n",
              "      <th>2001-01-03</th>\n",
              "      <td>1347.560059</td>\n",
              "      <td>0.6322</td>\n",
              "      <td>0.084</td>\n",
              "      <td>0.817</td>\n",
              "      <td>0.098</td>\n",
              "      <td>1283.270020</td>\n",
              "      <td>1347.760010</td>\n",
              "      <td>1274.619995</td>\n",
              "      <td>1.880700e+09</td>\n",
              "    </tr>\n",
              "    <tr>\n",
              "      <th>2001-01-04</th>\n",
              "      <td>1333.339966</td>\n",
              "      <td>0.6648</td>\n",
              "      <td>0.077</td>\n",
              "      <td>0.843</td>\n",
              "      <td>0.080</td>\n",
              "      <td>1347.560059</td>\n",
              "      <td>1350.239990</td>\n",
              "      <td>1329.140015</td>\n",
              "      <td>2.131000e+09</td>\n",
              "    </tr>\n",
              "    <tr>\n",
              "      <th>2001-01-05</th>\n",
              "      <td>1298.349976</td>\n",
              "      <td>0.9032</td>\n",
              "      <td>0.105</td>\n",
              "      <td>0.746</td>\n",
              "      <td>0.149</td>\n",
              "      <td>1333.339966</td>\n",
              "      <td>1334.770020</td>\n",
              "      <td>1294.949951</td>\n",
              "      <td>1.430800e+09</td>\n",
              "    </tr>\n",
              "    <tr>\n",
              "      <th>2001-01-08</th>\n",
              "      <td>1295.859985</td>\n",
              "      <td>-0.9638</td>\n",
              "      <td>0.119</td>\n",
              "      <td>0.855</td>\n",
              "      <td>0.026</td>\n",
              "      <td>1298.349976</td>\n",
              "      <td>1298.349976</td>\n",
              "      <td>1276.290039</td>\n",
              "      <td>1.115500e+09</td>\n",
              "    </tr>\n",
              "    <tr>\n",
              "      <th>...</th>\n",
              "      <td>...</td>\n",
              "      <td>...</td>\n",
              "      <td>...</td>\n",
              "      <td>...</td>\n",
              "      <td>...</td>\n",
              "      <td>...</td>\n",
              "      <td>...</td>\n",
              "      <td>...</td>\n",
              "      <td>...</td>\n",
              "    </tr>\n",
              "    <tr>\n",
              "      <th>2020-06-24</th>\n",
              "      <td>3050.330078</td>\n",
              "      <td>-0.9997</td>\n",
              "      <td>0.115</td>\n",
              "      <td>0.811</td>\n",
              "      <td>0.074</td>\n",
              "      <td>3114.399902</td>\n",
              "      <td>3115.010010</td>\n",
              "      <td>3032.129883</td>\n",
              "      <td>5.587200e+09</td>\n",
              "    </tr>\n",
              "    <tr>\n",
              "      <th>2020-06-25</th>\n",
              "      <td>3083.760010</td>\n",
              "      <td>-0.9999</td>\n",
              "      <td>0.126</td>\n",
              "      <td>0.820</td>\n",
              "      <td>0.054</td>\n",
              "      <td>3046.600098</td>\n",
              "      <td>3086.250000</td>\n",
              "      <td>3024.010010</td>\n",
              "      <td>4.815420e+09</td>\n",
              "    </tr>\n",
              "    <tr>\n",
              "      <th>2020-06-26</th>\n",
              "      <td>3009.050049</td>\n",
              "      <td>-0.9999</td>\n",
              "      <td>0.149</td>\n",
              "      <td>0.766</td>\n",
              "      <td>0.085</td>\n",
              "      <td>3073.199951</td>\n",
              "      <td>3073.729980</td>\n",
              "      <td>3004.629883</td>\n",
              "      <td>8.098120e+09</td>\n",
              "    </tr>\n",
              "    <tr>\n",
              "      <th>2020-06-29</th>\n",
              "      <td>3053.239990</td>\n",
              "      <td>-0.9997</td>\n",
              "      <td>0.119</td>\n",
              "      <td>0.804</td>\n",
              "      <td>0.078</td>\n",
              "      <td>3018.590088</td>\n",
              "      <td>3053.889893</td>\n",
              "      <td>2999.739990</td>\n",
              "      <td>4.462770e+09</td>\n",
              "    </tr>\n",
              "    <tr>\n",
              "      <th>2020-06-30</th>\n",
              "      <td>3100.290039</td>\n",
              "      <td>-0.9998</td>\n",
              "      <td>0.115</td>\n",
              "      <td>0.821</td>\n",
              "      <td>0.064</td>\n",
              "      <td>3050.199951</td>\n",
              "      <td>3111.510010</td>\n",
              "      <td>3047.830078</td>\n",
              "      <td>4.696280e+09</td>\n",
              "    </tr>\n",
              "  </tbody>\n",
              "</table>\n",
              "<p>4877 rows × 9 columns</p>\n",
              "</div>"
            ],
            "text/plain": [
              "                  Close  compound  ...          Low        Volume\n",
              "Date                               ...                           \n",
              "2001-01-02  1283.270020   -0.9621  ...  1276.050049  1.129400e+09\n",
              "2001-01-03  1347.560059    0.6322  ...  1274.619995  1.880700e+09\n",
              "2001-01-04  1333.339966    0.6648  ...  1329.140015  2.131000e+09\n",
              "2001-01-05  1298.349976    0.9032  ...  1294.949951  1.430800e+09\n",
              "2001-01-08  1295.859985   -0.9638  ...  1276.290039  1.115500e+09\n",
              "...                 ...       ...  ...          ...           ...\n",
              "2020-06-24  3050.330078   -0.9997  ...  3032.129883  5.587200e+09\n",
              "2020-06-25  3083.760010   -0.9999  ...  3024.010010  4.815420e+09\n",
              "2020-06-26  3009.050049   -0.9999  ...  3004.629883  8.098120e+09\n",
              "2020-06-29  3053.239990   -0.9997  ...  2999.739990  4.462770e+09\n",
              "2020-06-30  3100.290039   -0.9998  ...  3047.830078  4.696280e+09\n",
              "\n",
              "[4877 rows x 9 columns]"
            ]
          },
          "metadata": {
            "tags": []
          },
          "execution_count": 24
        }
      ]
    },
    {
      "cell_type": "code",
      "metadata": {
        "colab": {
          "base_uri": "https://localhost:8080/"
        },
        "id": "xjHx9E8U3FCe",
        "outputId": "7bd1d30d-d9cd-41fe-ae01-c772ef95fdb9"
      },
      "source": [
        "\r\n",
        "# calculating data_to_use\r\n",
        "percentage_of_data = 1.0\r\n",
        "data_to_use = int(percentage_of_data*(len(stock_data)-1))\r\n",
        "\r\n",
        "# using 80% of data for training\r\n",
        "train_end = int(data_to_use*0.8)\r\n",
        "total_data = len(stock_data)\r\n",
        "start = total_data - data_to_use\r\n",
        "\r\n",
        "# printing number of records in the training and test datasets\r\n",
        "print(\"Number of records in Training Data:\", train_end)\r\n",
        "print(\"Number of records in Test Data:\", total_data - train_end)"
      ],
      "execution_count": 25,
      "outputs": [
        {
          "output_type": "stream",
          "text": [
            "Number of records in Training Data: 3900\n",
            "Number of records in Test Data: 977\n"
          ],
          "name": "stdout"
        }
      ]
    },
    {
      "cell_type": "code",
      "metadata": {
        "colab": {
          "base_uri": "https://localhost:8080/"
        },
        "id": "X2rV_MWP3FAN",
        "outputId": "72acacbe-7266-4a70-961c-1fbe4b5eeeb6"
      },
      "source": [
        "# predicting one step ahead\r\n",
        "steps_to_predict = 1\r\n",
        "\r\n",
        "# capturing data to be used for each column\r\n",
        "close_price = stock_data.iloc[start:total_data,0] #close\r\n",
        "compound = stock_data.iloc[start:total_data,1] #compound\r\n",
        "negative = stock_data.iloc[start:total_data,2] #neg\r\n",
        "neutral = stock_data.iloc[start:total_data,3] #neu\r\n",
        "positive = stock_data.iloc[start:total_data,4] #pos\r\n",
        "open_price = stock_data.iloc[start:total_data,5] #open\r\n",
        "high = stock_data.iloc[start:total_data,6] #high\r\n",
        "low = stock_data.iloc[start:total_data,7] #low\r\n",
        "volume = stock_data.iloc[start:total_data,8] #volume\r\n",
        "\r\n",
        "# printing close price\r\n",
        "print(\"Close Price:\")\r\n",
        "close_price"
      ],
      "execution_count": 26,
      "outputs": [
        {
          "output_type": "stream",
          "text": [
            "Close Price:\n"
          ],
          "name": "stdout"
        },
        {
          "output_type": "execute_result",
          "data": {
            "text/plain": [
              "Date\n",
              "2001-01-03    1347.560059\n",
              "2001-01-04    1333.339966\n",
              "2001-01-05    1298.349976\n",
              "2001-01-08    1295.859985\n",
              "2001-01-09    1300.800049\n",
              "                 ...     \n",
              "2020-06-24    3050.330078\n",
              "2020-06-25    3083.760010\n",
              "2020-06-26    3009.050049\n",
              "2020-06-29    3053.239990\n",
              "2020-06-30    3100.290039\n",
              "Name: Close, Length: 4876, dtype: float64"
            ]
          },
          "metadata": {
            "tags": []
          },
          "execution_count": 26
        }
      ]
    },
    {
      "cell_type": "code",
      "metadata": {
        "colab": {
          "base_uri": "https://localhost:8080/",
          "height": 373
        },
        "id": "QfstJhzF3E-T",
        "outputId": "ac040eaa-3604-45af-8b24-28248d223118"
      },
      "source": [
        "# shifting next day close\r\n",
        "close_price_shifted = close_price.shift(-1) \r\n",
        "\r\n",
        "# shifting next day compound\r\n",
        "compound_shifted = compound.shift(-1) \r\n",
        "\r\n",
        "# concatenating the captured training data into a dataframe\r\n",
        "data = pd.concat([close_price, close_price_shifted, compound, compound_shifted, volume, open_price, high, low], axis=1)\r\n",
        "\r\n",
        "# setting column names of the revised stock data\r\n",
        "data.columns = ['close_price', 'close_price_shifted', 'compound', 'compound_shifted','volume', 'open_price', 'high', 'low']\r\n",
        "\r\n",
        "# dropping nulls\r\n",
        "data = data.dropna()    \r\n",
        "data.head(10)"
      ],
      "execution_count": 27,
      "outputs": [
        {
          "output_type": "execute_result",
          "data": {
            "text/html": [
              "<div>\n",
              "<style scoped>\n",
              "    .dataframe tbody tr th:only-of-type {\n",
              "        vertical-align: middle;\n",
              "    }\n",
              "\n",
              "    .dataframe tbody tr th {\n",
              "        vertical-align: top;\n",
              "    }\n",
              "\n",
              "    .dataframe thead th {\n",
              "        text-align: right;\n",
              "    }\n",
              "</style>\n",
              "<table border=\"1\" class=\"dataframe\">\n",
              "  <thead>\n",
              "    <tr style=\"text-align: right;\">\n",
              "      <th></th>\n",
              "      <th>close_price</th>\n",
              "      <th>close_price_shifted</th>\n",
              "      <th>compound</th>\n",
              "      <th>compound_shifted</th>\n",
              "      <th>volume</th>\n",
              "      <th>open_price</th>\n",
              "      <th>high</th>\n",
              "      <th>low</th>\n",
              "    </tr>\n",
              "    <tr>\n",
              "      <th>Date</th>\n",
              "      <th></th>\n",
              "      <th></th>\n",
              "      <th></th>\n",
              "      <th></th>\n",
              "      <th></th>\n",
              "      <th></th>\n",
              "      <th></th>\n",
              "      <th></th>\n",
              "    </tr>\n",
              "  </thead>\n",
              "  <tbody>\n",
              "    <tr>\n",
              "      <th>2001-01-03</th>\n",
              "      <td>1347.560059</td>\n",
              "      <td>1333.339966</td>\n",
              "      <td>0.6322</td>\n",
              "      <td>0.6648</td>\n",
              "      <td>1.880700e+09</td>\n",
              "      <td>1283.270020</td>\n",
              "      <td>1347.760010</td>\n",
              "      <td>1274.619995</td>\n",
              "    </tr>\n",
              "    <tr>\n",
              "      <th>2001-01-04</th>\n",
              "      <td>1333.339966</td>\n",
              "      <td>1298.349976</td>\n",
              "      <td>0.6648</td>\n",
              "      <td>0.9032</td>\n",
              "      <td>2.131000e+09</td>\n",
              "      <td>1347.560059</td>\n",
              "      <td>1350.239990</td>\n",
              "      <td>1329.140015</td>\n",
              "    </tr>\n",
              "    <tr>\n",
              "      <th>2001-01-05</th>\n",
              "      <td>1298.349976</td>\n",
              "      <td>1295.859985</td>\n",
              "      <td>0.9032</td>\n",
              "      <td>-0.9638</td>\n",
              "      <td>1.430800e+09</td>\n",
              "      <td>1333.339966</td>\n",
              "      <td>1334.770020</td>\n",
              "      <td>1294.949951</td>\n",
              "    </tr>\n",
              "    <tr>\n",
              "      <th>2001-01-08</th>\n",
              "      <td>1295.859985</td>\n",
              "      <td>1300.800049</td>\n",
              "      <td>-0.9638</td>\n",
              "      <td>-0.9559</td>\n",
              "      <td>1.115500e+09</td>\n",
              "      <td>1298.349976</td>\n",
              "      <td>1298.349976</td>\n",
              "      <td>1276.290039</td>\n",
              "    </tr>\n",
              "    <tr>\n",
              "      <th>2001-01-09</th>\n",
              "      <td>1300.800049</td>\n",
              "      <td>1313.270020</td>\n",
              "      <td>-0.9559</td>\n",
              "      <td>-0.5719</td>\n",
              "      <td>1.191300e+09</td>\n",
              "      <td>1295.859985</td>\n",
              "      <td>1311.719971</td>\n",
              "      <td>1295.140015</td>\n",
              "    </tr>\n",
              "    <tr>\n",
              "      <th>2001-01-10</th>\n",
              "      <td>1313.270020</td>\n",
              "      <td>1326.819946</td>\n",
              "      <td>-0.5719</td>\n",
              "      <td>0.0000</td>\n",
              "      <td>1.296500e+09</td>\n",
              "      <td>1300.800049</td>\n",
              "      <td>1313.760010</td>\n",
              "      <td>1287.280029</td>\n",
              "    </tr>\n",
              "    <tr>\n",
              "      <th>2001-01-11</th>\n",
              "      <td>1326.819946</td>\n",
              "      <td>1360.400024</td>\n",
              "      <td>0.0000</td>\n",
              "      <td>0.9295</td>\n",
              "      <td>1.411200e+09</td>\n",
              "      <td>1313.270020</td>\n",
              "      <td>1332.189941</td>\n",
              "      <td>1309.719971</td>\n",
              "    </tr>\n",
              "    <tr>\n",
              "      <th>2001-01-23</th>\n",
              "      <td>1360.400024</td>\n",
              "      <td>1364.300049</td>\n",
              "      <td>0.9295</td>\n",
              "      <td>-0.9039</td>\n",
              "      <td>1.232600e+09</td>\n",
              "      <td>1342.900024</td>\n",
              "      <td>1362.900024</td>\n",
              "      <td>1339.630005</td>\n",
              "    </tr>\n",
              "    <tr>\n",
              "      <th>2001-01-24</th>\n",
              "      <td>1364.300049</td>\n",
              "      <td>1357.510010</td>\n",
              "      <td>-0.9039</td>\n",
              "      <td>-0.9854</td>\n",
              "      <td>1.309000e+09</td>\n",
              "      <td>1360.400024</td>\n",
              "      <td>1369.750000</td>\n",
              "      <td>1357.280029</td>\n",
              "    </tr>\n",
              "    <tr>\n",
              "      <th>2001-01-25</th>\n",
              "      <td>1357.510010</td>\n",
              "      <td>1354.949951</td>\n",
              "      <td>-0.9854</td>\n",
              "      <td>0.8926</td>\n",
              "      <td>1.258000e+09</td>\n",
              "      <td>1364.300049</td>\n",
              "      <td>1367.349976</td>\n",
              "      <td>1354.630005</td>\n",
              "    </tr>\n",
              "  </tbody>\n",
              "</table>\n",
              "</div>"
            ],
            "text/plain": [
              "            close_price  close_price_shifted  ...         high          low\n",
              "Date                                          ...                          \n",
              "2001-01-03  1347.560059          1333.339966  ...  1347.760010  1274.619995\n",
              "2001-01-04  1333.339966          1298.349976  ...  1350.239990  1329.140015\n",
              "2001-01-05  1298.349976          1295.859985  ...  1334.770020  1294.949951\n",
              "2001-01-08  1295.859985          1300.800049  ...  1298.349976  1276.290039\n",
              "2001-01-09  1300.800049          1313.270020  ...  1311.719971  1295.140015\n",
              "2001-01-10  1313.270020          1326.819946  ...  1313.760010  1287.280029\n",
              "2001-01-11  1326.819946          1360.400024  ...  1332.189941  1309.719971\n",
              "2001-01-23  1360.400024          1364.300049  ...  1362.900024  1339.630005\n",
              "2001-01-24  1364.300049          1357.510010  ...  1369.750000  1357.280029\n",
              "2001-01-25  1357.510010          1354.949951  ...  1367.349976  1354.630005\n",
              "\n",
              "[10 rows x 8 columns]"
            ]
          },
          "metadata": {
            "tags": []
          },
          "execution_count": 27
        }
      ]
    },
    {
      "cell_type": "code",
      "metadata": {
        "colab": {
          "base_uri": "https://localhost:8080/"
        },
        "id": "Ae3hW7E83E7t",
        "outputId": "6fa5de59-7b62-4230-c7c6-12c2e465885e"
      },
      "source": [
        "# setting the target variable as the shifted close_price\r\n",
        "y = data['close_price_shifted']\r\n",
        "y"
      ],
      "execution_count": 28,
      "outputs": [
        {
          "output_type": "execute_result",
          "data": {
            "text/plain": [
              "Date\n",
              "2001-01-03    1333.339966\n",
              "2001-01-04    1298.349976\n",
              "2001-01-05    1295.859985\n",
              "2001-01-08    1300.800049\n",
              "2001-01-09    1313.270020\n",
              "                 ...     \n",
              "2020-06-23    3050.330078\n",
              "2020-06-24    3083.760010\n",
              "2020-06-25    3009.050049\n",
              "2020-06-26    3053.239990\n",
              "2020-06-29    3100.290039\n",
              "Name: close_price_shifted, Length: 4875, dtype: float64"
            ]
          },
          "metadata": {
            "tags": []
          },
          "execution_count": 28
        }
      ]
    },
    {
      "cell_type": "code",
      "metadata": {
        "colab": {
          "base_uri": "https://localhost:8080/",
          "height": 431
        },
        "id": "0VaeH-D83dzz",
        "outputId": "fc6598c2-a59e-41f0-e0a9-d61b20cc9c28"
      },
      "source": [
        "\r\n",
        "# setting the features dataset for prediction  \r\n",
        "cols = ['close_price', 'compound', 'compound_shifted', 'volume', 'open_price', 'high', 'low']\r\n",
        "x = data[cols]\r\n",
        "x"
      ],
      "execution_count": 29,
      "outputs": [
        {
          "output_type": "execute_result",
          "data": {
            "text/html": [
              "<div>\n",
              "<style scoped>\n",
              "    .dataframe tbody tr th:only-of-type {\n",
              "        vertical-align: middle;\n",
              "    }\n",
              "\n",
              "    .dataframe tbody tr th {\n",
              "        vertical-align: top;\n",
              "    }\n",
              "\n",
              "    .dataframe thead th {\n",
              "        text-align: right;\n",
              "    }\n",
              "</style>\n",
              "<table border=\"1\" class=\"dataframe\">\n",
              "  <thead>\n",
              "    <tr style=\"text-align: right;\">\n",
              "      <th></th>\n",
              "      <th>close_price</th>\n",
              "      <th>compound</th>\n",
              "      <th>compound_shifted</th>\n",
              "      <th>volume</th>\n",
              "      <th>open_price</th>\n",
              "      <th>high</th>\n",
              "      <th>low</th>\n",
              "    </tr>\n",
              "    <tr>\n",
              "      <th>Date</th>\n",
              "      <th></th>\n",
              "      <th></th>\n",
              "      <th></th>\n",
              "      <th></th>\n",
              "      <th></th>\n",
              "      <th></th>\n",
              "      <th></th>\n",
              "    </tr>\n",
              "  </thead>\n",
              "  <tbody>\n",
              "    <tr>\n",
              "      <th>2001-01-03</th>\n",
              "      <td>1347.560059</td>\n",
              "      <td>0.6322</td>\n",
              "      <td>0.6648</td>\n",
              "      <td>1.880700e+09</td>\n",
              "      <td>1283.270020</td>\n",
              "      <td>1347.760010</td>\n",
              "      <td>1274.619995</td>\n",
              "    </tr>\n",
              "    <tr>\n",
              "      <th>2001-01-04</th>\n",
              "      <td>1333.339966</td>\n",
              "      <td>0.6648</td>\n",
              "      <td>0.9032</td>\n",
              "      <td>2.131000e+09</td>\n",
              "      <td>1347.560059</td>\n",
              "      <td>1350.239990</td>\n",
              "      <td>1329.140015</td>\n",
              "    </tr>\n",
              "    <tr>\n",
              "      <th>2001-01-05</th>\n",
              "      <td>1298.349976</td>\n",
              "      <td>0.9032</td>\n",
              "      <td>-0.9638</td>\n",
              "      <td>1.430800e+09</td>\n",
              "      <td>1333.339966</td>\n",
              "      <td>1334.770020</td>\n",
              "      <td>1294.949951</td>\n",
              "    </tr>\n",
              "    <tr>\n",
              "      <th>2001-01-08</th>\n",
              "      <td>1295.859985</td>\n",
              "      <td>-0.9638</td>\n",
              "      <td>-0.9559</td>\n",
              "      <td>1.115500e+09</td>\n",
              "      <td>1298.349976</td>\n",
              "      <td>1298.349976</td>\n",
              "      <td>1276.290039</td>\n",
              "    </tr>\n",
              "    <tr>\n",
              "      <th>2001-01-09</th>\n",
              "      <td>1300.800049</td>\n",
              "      <td>-0.9559</td>\n",
              "      <td>-0.5719</td>\n",
              "      <td>1.191300e+09</td>\n",
              "      <td>1295.859985</td>\n",
              "      <td>1311.719971</td>\n",
              "      <td>1295.140015</td>\n",
              "    </tr>\n",
              "    <tr>\n",
              "      <th>...</th>\n",
              "      <td>...</td>\n",
              "      <td>...</td>\n",
              "      <td>...</td>\n",
              "      <td>...</td>\n",
              "      <td>...</td>\n",
              "      <td>...</td>\n",
              "      <td>...</td>\n",
              "    </tr>\n",
              "    <tr>\n",
              "      <th>2020-06-23</th>\n",
              "      <td>3131.290039</td>\n",
              "      <td>-0.9999</td>\n",
              "      <td>-0.9997</td>\n",
              "      <td>4.704830e+09</td>\n",
              "      <td>3138.699951</td>\n",
              "      <td>3154.899902</td>\n",
              "      <td>3127.120117</td>\n",
              "    </tr>\n",
              "    <tr>\n",
              "      <th>2020-06-24</th>\n",
              "      <td>3050.330078</td>\n",
              "      <td>-0.9997</td>\n",
              "      <td>-0.9999</td>\n",
              "      <td>5.587200e+09</td>\n",
              "      <td>3114.399902</td>\n",
              "      <td>3115.010010</td>\n",
              "      <td>3032.129883</td>\n",
              "    </tr>\n",
              "    <tr>\n",
              "      <th>2020-06-25</th>\n",
              "      <td>3083.760010</td>\n",
              "      <td>-0.9999</td>\n",
              "      <td>-0.9999</td>\n",
              "      <td>4.815420e+09</td>\n",
              "      <td>3046.600098</td>\n",
              "      <td>3086.250000</td>\n",
              "      <td>3024.010010</td>\n",
              "    </tr>\n",
              "    <tr>\n",
              "      <th>2020-06-26</th>\n",
              "      <td>3009.050049</td>\n",
              "      <td>-0.9999</td>\n",
              "      <td>-0.9997</td>\n",
              "      <td>8.098120e+09</td>\n",
              "      <td>3073.199951</td>\n",
              "      <td>3073.729980</td>\n",
              "      <td>3004.629883</td>\n",
              "    </tr>\n",
              "    <tr>\n",
              "      <th>2020-06-29</th>\n",
              "      <td>3053.239990</td>\n",
              "      <td>-0.9997</td>\n",
              "      <td>-0.9998</td>\n",
              "      <td>4.462770e+09</td>\n",
              "      <td>3018.590088</td>\n",
              "      <td>3053.889893</td>\n",
              "      <td>2999.739990</td>\n",
              "    </tr>\n",
              "  </tbody>\n",
              "</table>\n",
              "<p>4875 rows × 7 columns</p>\n",
              "</div>"
            ],
            "text/plain": [
              "            close_price  compound  ...         high          low\n",
              "Date                               ...                          \n",
              "2001-01-03  1347.560059    0.6322  ...  1347.760010  1274.619995\n",
              "2001-01-04  1333.339966    0.6648  ...  1350.239990  1329.140015\n",
              "2001-01-05  1298.349976    0.9032  ...  1334.770020  1294.949951\n",
              "2001-01-08  1295.859985   -0.9638  ...  1298.349976  1276.290039\n",
              "2001-01-09  1300.800049   -0.9559  ...  1311.719971  1295.140015\n",
              "...                 ...       ...  ...          ...          ...\n",
              "2020-06-23  3131.290039   -0.9999  ...  3154.899902  3127.120117\n",
              "2020-06-24  3050.330078   -0.9997  ...  3115.010010  3032.129883\n",
              "2020-06-25  3083.760010   -0.9999  ...  3086.250000  3024.010010\n",
              "2020-06-26  3009.050049   -0.9999  ...  3073.729980  3004.629883\n",
              "2020-06-29  3053.239990   -0.9997  ...  3053.889893  2999.739990\n",
              "\n",
              "[4875 rows x 7 columns]"
            ]
          },
          "metadata": {
            "tags": []
          },
          "execution_count": 29
        }
      ]
    },
    {
      "cell_type": "code",
      "metadata": {
        "colab": {
          "base_uri": "https://localhost:8080/"
        },
        "id": "x5g_5ydU3dxm",
        "outputId": "938a5f20-b60e-47b8-ed8c-e2695b07455f"
      },
      "source": [
        "\r\n",
        "# scaling the feature dataset\r\n",
        "scaler_x = preprocessing.MinMaxScaler (feature_range=(-1, 1))\r\n",
        "x = npp.array(x).reshape((len(x) ,len(cols)))\r\n",
        "x = scaler_x.fit_transform(x)\r\n",
        "\r\n",
        "# scaling the target variable\r\n",
        "scaler_y = preprocessing.MinMaxScaler (feature_range=(-1, 1))\r\n",
        "y = npp.array (y).reshape ((len( y), 1))\r\n",
        "y = scaler_y.fit_transform (y)\r\n",
        "\r\n",
        "# displaying the scaled feature dataset and the target variable\r\n",
        "x, y"
      ],
      "execution_count": 31,
      "outputs": [
        {
          "output_type": "execute_result",
          "data": {
            "text/plain": [
              "(array([[-0.50470541,  0.6322    ,  0.6648    , ..., -0.55279378,\n",
              "         -0.51636061, -0.5517544 ],\n",
              "        [-0.51520142,  0.6648    ,  0.9032    , ..., -0.50519216,\n",
              "         -0.5145224 , -0.51154849],\n",
              "        [-0.54102791,  0.9032    , -0.9638    , ..., -0.515721  ,\n",
              "         -0.52598907, -0.53676203],\n",
              "        ...,\n",
              "        [ 0.77680272, -0.9999    , -0.9999    , ...,  0.75281092,\n",
              "          0.77224496,  0.73833715],\n",
              "        [ 0.72165848, -0.9999    , -0.9997    , ...,  0.77250598,\n",
              "          0.76296485,  0.72404523],\n",
              "        [ 0.75427556, -0.9997    , -0.9998    , ...,  0.73207175,\n",
              "          0.74825896,  0.72043917]]), array([[-0.51520142],\n",
              "        [-0.54102791],\n",
              "        [-0.5428658 ],\n",
              "        ...,\n",
              "        [ 0.72165848],\n",
              "        [ 0.75427556],\n",
              "        [ 0.78900372]]))"
            ]
          },
          "metadata": {
            "tags": []
          },
          "execution_count": 31
        }
      ]
    },
    {
      "cell_type": "code",
      "metadata": {
        "colab": {
          "base_uri": "https://localhost:8080/"
        },
        "id": "NOepj9tv3k5k",
        "outputId": "65fa571d-99dd-4ef9-ed17-ee63e9cfbd23"
      },
      "source": [
        "# preparing training and test dataset\r\n",
        "X_train = x[0 : train_end,]\r\n",
        "X_test = x[train_end+1 : len(x),]    \r\n",
        "y_train = y[0 : train_end] \r\n",
        "y_test = y[train_end+1 : len(y)]  \r\n",
        "\r\n",
        "# printing the shape of the training and the test datasets\r\n",
        "print('Number of rows and columns in the Training set X:', X_train.shape, 'and y:', y_train.shape)\r\n",
        "print('Number of rows and columns in the Test set X:', X_test.shape, 'and y:', y_test.shape)"
      ],
      "execution_count": 32,
      "outputs": [
        {
          "output_type": "stream",
          "text": [
            "Number of rows and columns in the Training set X: (3900, 7) and y: (3900, 1)\n",
            "Number of rows and columns in the Test set X: (974, 7) and y: (974, 1)\n"
          ],
          "name": "stdout"
        }
      ]
    },
    {
      "cell_type": "code",
      "metadata": {
        "colab": {
          "base_uri": "https://localhost:8080/"
        },
        "id": "ZoTEB0Ks3k3F",
        "outputId": "1fc99db5-18c6-4bf2-9b84-8271a89e2956"
      },
      "source": [
        "# reshaping the feature dataset for feeding into the model\r\n",
        "X_train = X_train.reshape (X_train.shape + (1,)) \r\n",
        "X_test = X_test.reshape(X_test.shape + (1,))\r\n",
        "\r\n",
        "# printing the re-shaped feature dataset\r\n",
        "print('Shape of Training set X:', X_train.shape)\r\n",
        "print('Shape of Test set X:', X_test.shape)"
      ],
      "execution_count": 33,
      "outputs": [
        {
          "output_type": "stream",
          "text": [
            "Shape of Training set X: (3900, 7, 1)\n",
            "Shape of Test set X: (974, 7, 1)\n"
          ],
          "name": "stdout"
        }
      ]
    },
    {
      "cell_type": "code",
      "metadata": {
        "colab": {
          "base_uri": "https://localhost:8080/"
        },
        "id": "H_qsJZWL3k0l",
        "outputId": "f367a1c9-c002-4b5c-a4fb-6daf5c4a7ce4"
      },
      "source": [
        "\r\n",
        "# setting the seed to achieve consistent and less random predictions at each execution\r\n",
        "npp.random.seed(2016)\r\n",
        "\r\n",
        "# setting the model architecture\r\n",
        "model=Sequential()\r\n",
        "model.add(LSTM(100,return_sequences=True,activation='tanh',input_shape=(len(cols),1)))\r\n",
        "model.add(Dropout(0.1))\r\n",
        "model.add(LSTM(100,return_sequences=True,activation='tanh'))\r\n",
        "model.add(Dropout(0.1))\r\n",
        "model.add(LSTM(100,activation='tanh'))\r\n",
        "model.add(Dropout(0.1))\r\n",
        "model.add(Dense(1))\r\n",
        "\r\n",
        "# printing the model summary\r\n",
        "model.summary()"
      ],
      "execution_count": 34,
      "outputs": [
        {
          "output_type": "stream",
          "text": [
            "Model: \"sequential\"\n",
            "_________________________________________________________________\n",
            "Layer (type)                 Output Shape              Param #   \n",
            "=================================================================\n",
            "lstm (LSTM)                  (None, 7, 100)            40800     \n",
            "_________________________________________________________________\n",
            "dropout (Dropout)            (None, 7, 100)            0         \n",
            "_________________________________________________________________\n",
            "lstm_1 (LSTM)                (None, 7, 100)            80400     \n",
            "_________________________________________________________________\n",
            "dropout_1 (Dropout)          (None, 7, 100)            0         \n",
            "_________________________________________________________________\n",
            "lstm_2 (LSTM)                (None, 100)               80400     \n",
            "_________________________________________________________________\n",
            "dropout_2 (Dropout)          (None, 100)               0         \n",
            "_________________________________________________________________\n",
            "dense (Dense)                (None, 1)                 101       \n",
            "=================================================================\n",
            "Total params: 201,701\n",
            "Trainable params: 201,701\n",
            "Non-trainable params: 0\n",
            "_________________________________________________________________\n"
          ],
          "name": "stdout"
        }
      ]
    },
    {
      "cell_type": "code",
      "metadata": {
        "colab": {
          "base_uri": "https://localhost:8080/"
        },
        "id": "e3Vt13V23dvb",
        "outputId": "8d98fbd4-33f1-48ce-d071-d8dfa51635a1"
      },
      "source": [
        "# compiling the model\r\n",
        "model.compile(loss='mse' , optimizer='adam')\r\n",
        "\r\n",
        "# fitting the model using the training dataset\r\n",
        "model.fit(X_train, y_train, validation_split=0.2, epochs=10, batch_size=8, verbose=1)\r\n"
      ],
      "execution_count": 35,
      "outputs": [
        {
          "output_type": "stream",
          "text": [
            "Epoch 1/10\n",
            "390/390 [==============================] - 3s 7ms/step - loss: 0.0216 - val_loss: 0.2158\n",
            "Epoch 2/10\n",
            "390/390 [==============================] - 2s 5ms/step - loss: 0.0045 - val_loss: 0.0113\n",
            "Epoch 3/10\n",
            "390/390 [==============================] - 2s 5ms/step - loss: 0.0014 - val_loss: 0.0029\n",
            "Epoch 4/10\n",
            "390/390 [==============================] - 2s 5ms/step - loss: 0.0012 - val_loss: 6.0412e-04\n",
            "Epoch 5/10\n",
            "390/390 [==============================] - 2s 5ms/step - loss: 0.0010 - val_loss: 3.5642e-04\n",
            "Epoch 6/10\n",
            "390/390 [==============================] - 2s 5ms/step - loss: 0.0010 - val_loss: 0.0012\n",
            "Epoch 7/10\n",
            "390/390 [==============================] - 2s 5ms/step - loss: 9.6657e-04 - val_loss: 5.0229e-04\n",
            "Epoch 8/10\n",
            "390/390 [==============================] - 2s 5ms/step - loss: 8.4031e-04 - val_loss: 9.1415e-04\n",
            "Epoch 9/10\n",
            "390/390 [==============================] - 2s 5ms/step - loss: 8.2223e-04 - val_loss: 8.7121e-04\n",
            "Epoch 10/10\n",
            "390/390 [==============================] - 2s 5ms/step - loss: 7.4533e-04 - val_loss: 3.2495e-04\n"
          ],
          "name": "stdout"
        },
        {
          "output_type": "execute_result",
          "data": {
            "text/plain": [
              "<tensorflow.python.keras.callbacks.History at 0x7f0789af16d8>"
            ]
          },
          "metadata": {
            "tags": []
          },
          "execution_count": 35
        }
      ]
    },
    {
      "cell_type": "code",
      "metadata": {
        "colab": {
          "base_uri": "https://localhost:8080/"
        },
        "id": "cmFMW8w73dtH",
        "outputId": "43fb7d55-8ebb-4dca-f500-0d905d22c0cb"
      },
      "source": [
        "# saving the model as a json file\r\n",
        "model_json = model.to_json()\r\n",
        "with open('model.json', 'w') as json_file:\r\n",
        "    json_file.write(model_json)\r\n",
        "    \r\n",
        "# serialize weights to HDF5\r\n",
        "model.save_weights('model.h5')\r\n",
        "print('Model is saved to the disk')"
      ],
      "execution_count": 36,
      "outputs": [
        {
          "output_type": "stream",
          "text": [
            "Model is saved to the disk\n"
          ],
          "name": "stdout"
        }
      ]
    },
    {
      "cell_type": "code",
      "metadata": {
        "colab": {
          "base_uri": "https://localhost:8080/"
        },
        "id": "Xs-SdAAT2XFQ",
        "outputId": "df04e22f-6b01-43b1-adc8-c8295c94555d"
      },
      "source": [
        "\r\n",
        "# performing predictions\r\n",
        "predictions = model.predict(X_test) \r\n",
        "\r\n",
        "# unscaling the predictions\r\n",
        "predictions = scaler_y.inverse_transform(npp.array(predictions).reshape((len(predictions), 1)))\r\n",
        "\r\n",
        "# printing the predictions\r\n",
        "print('Predictions:')\r\n",
        "predictions[0:5]"
      ],
      "execution_count": 37,
      "outputs": [
        {
          "output_type": "stream",
          "text": [
            "Predictions:\n"
          ],
          "name": "stdout"
        },
        {
          "output_type": "execute_result",
          "data": {
            "text/plain": [
              "array([[2199.1272],\n",
              "       [2195.0088],\n",
              "       [2201.4543],\n",
              "       [2196.035 ],\n",
              "       [2192.0898]], dtype=float32)"
            ]
          },
          "metadata": {
            "tags": []
          },
          "execution_count": 37
        }
      ]
    },
    {
      "cell_type": "code",
      "metadata": {
        "colab": {
          "base_uri": "https://localhost:8080/"
        },
        "id": "WyjZsGck3zZD",
        "outputId": "145f3b80-2ac8-4b6a-f197-ae0091f59ea5"
      },
      "source": [
        "\r\n",
        "# calculating the training mean-squared-error\r\n",
        "train_loss = model.evaluate(X_train, y_train, batch_size = 1)\r\n",
        "\r\n",
        "# calculating the test mean-squared-error\r\n",
        "test_loss = model.evaluate(X_test, y_test, batch_size = 1)\r\n",
        "\r\n",
        "# printing the training and the test mean-squared-errors\r\n",
        "print('Train Loss =', round(train_loss,4))\r\n",
        "print('Test Loss =', round(test_loss,4))"
      ],
      "execution_count": 38,
      "outputs": [
        {
          "output_type": "stream",
          "text": [
            "3900/3900 [==============================] - 10s 2ms/step - loss: 3.0907e-04\n",
            "974/974 [==============================] - 2s 2ms/step - loss: 0.0024\n",
            "Train Loss = 0.0003\n",
            "Test Loss = 0.0024\n"
          ],
          "name": "stdout"
        }
      ]
    },
    {
      "cell_type": "code",
      "metadata": {
        "colab": {
          "base_uri": "https://localhost:8080/"
        },
        "id": "dQS-A4l33zWw",
        "outputId": "6ca2d541-600c-40ce-c2f9-b75994ce1236"
      },
      "source": [
        "\r\n",
        "# calculating root mean squared error\r\n",
        "root_mean_square_error = npp.sqrt(npp.mean(npp.power((y_test - predictions),2)))\r\n",
        "print('Root Mean Square Error =', round(root_mean_square_error,4))"
      ],
      "execution_count": 39,
      "outputs": [
        {
          "output_type": "stream",
          "text": [
            "Root Mean Square Error = 2753.0931\n"
          ],
          "name": "stdout"
        }
      ]
    },
    {
      "cell_type": "code",
      "metadata": {
        "colab": {
          "base_uri": "https://localhost:8080/"
        },
        "id": "t9Skh6d-3zUr",
        "outputId": "ec3dc748-76db-48a2-e655-a2feaa10d442"
      },
      "source": [
        "# calculating root mean squared error using sklearn.metrics package\r\n",
        "rmse = metrics.mean_squared_error(y_test, predictions)\r\n",
        "print('Root Mean Square Error (sklearn.metrics) =', round(npp.sqrt(rmse),4))"
      ],
      "execution_count": 40,
      "outputs": [
        {
          "output_type": "stream",
          "text": [
            "Root Mean Square Error (sklearn.metrics) = 2753.0931\n"
          ],
          "name": "stdout"
        }
      ]
    },
    {
      "cell_type": "code",
      "metadata": {
        "id": "BYdRjhJE3zSQ"
      },
      "source": [
        "# unscaling the test feature dataset, x_test\r\n",
        "X_test = scaler_x.inverse_transform(npp.array(X_test).reshape((len(X_test), len(cols))))\r\n",
        "\r\n",
        "# unscaling the test y dataset, y_test\r\n",
        "y_train = scaler_y.inverse_transform(npp.array(y_train).reshape((len(y_train), 1)))\r\n",
        "y_test = scaler_y.inverse_transform(npp.array(y_test).reshape((len(y_test), 1)))"
      ],
      "execution_count": 41,
      "outputs": []
    },
    {
      "cell_type": "code",
      "metadata": {
        "colab": {
          "base_uri": "https://localhost:8080/",
          "height": 625
        },
        "id": "ilEr__ms3zQf",
        "outputId": "2359f93e-cc77-4935-9753-5fbfa6fecd75"
      },
      "source": [
        "# plotting\r\n",
        "plt.figure(figsize=(16,10))\r\n",
        "\r\n",
        "# plt.plot([row[0] for row in y_train], label=\"Training Close Price\")\r\n",
        "plt.plot(predictions, label=\"Predicted Close Price\")\r\n",
        "plt.plot([row[0] for row in y_test], label=\"Testing Close Price\")\r\n",
        "plt.legend(loc='upper center', bbox_to_anchor=(0.5, -0.05), fancybox=True, shadow=True, ncol=2)\r\n",
        "plt.show()"
      ],
      "execution_count": 42,
      "outputs": [
        {
          "output_type": "display_data",
          "data": {
            "image/png": "[encoded data removed]",
            "text/plain": [
              "<Figure size 1152x720 with 1 Axes>"
            ]
          },
          "metadata": {
            "tags": [],
            "needs_background": "light"
          }
        }
      ]
    },
    {
      "cell_type": "code",
      "metadata": {
        "id": "8_hOBSVh3zNl"
      },
      "source": [
        ""
      ],
      "execution_count": null,
      "outputs": []
    },
    {
      "cell_type": "code",
      "metadata": {
        "id": "W8rsCcjO2XDV"
      },
      "source": [
        ""
      ],
      "execution_count": null,
      "outputs": []
    },
    {
      "cell_type": "code",
      "metadata": {
        "id": "ehw68UnF2XAy"
      },
      "source": [
        ""
      ],
      "execution_count": null,
      "outputs": []
    }
  ]
}